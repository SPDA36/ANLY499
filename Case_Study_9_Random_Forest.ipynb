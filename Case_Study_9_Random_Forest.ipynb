{
 "cells": [
  {
   "cell_type": "markdown",
   "id": "1c14dafe",
   "metadata": {},
   "source": [
    "# Purpose\n",
    "* The purpose of this notebook is to show an example of traning, testing, and hypertuning a random forest model on ANLY499 Case Study 9 data.\n",
    "---\n",
    "### Brandon Johnson"
   ]
  },
  {
   "cell_type": "code",
   "execution_count": 1,
   "id": "3626de24",
   "metadata": {},
   "outputs": [],
   "source": [
    "import numpy as np\n",
    "import pandas as pd\n",
    "import matplotlib.pyplot as plt\n",
    "import seaborn as sns\n",
    "import scipy as sp \n",
    "\n",
    "from sklearn.ensemble import RandomForestRegressor # Random Forest Algo\n",
    "from sklearn.model_selection import train_test_split, RandomizedSearchCV\n",
    "from sklearn.metrics import r2_score, mean_squared_error"
   ]
  },
  {
   "cell_type": "markdown",
   "id": "bf2e7f86",
   "metadata": {},
   "source": [
    "# Seed"
   ]
  },
  {
   "cell_type": "code",
   "execution_count": 5,
   "id": "049ddbb0",
   "metadata": {},
   "outputs": [],
   "source": [
    "seed = 77 # for reproducibility so that random numbers are generated the same way"
   ]
  },
  {
   "cell_type": "markdown",
   "id": "7e0625f2",
   "metadata": {},
   "source": [
    "# Data"
   ]
  },
  {
   "cell_type": "code",
   "execution_count": 2,
   "id": "6d53e8c9",
   "metadata": {},
   "outputs": [
    {
     "data": {
      "text/html": [
       "<div>\n",
       "<style scoped>\n",
       "    .dataframe tbody tr th:only-of-type {\n",
       "        vertical-align: middle;\n",
       "    }\n",
       "\n",
       "    .dataframe tbody tr th {\n",
       "        vertical-align: top;\n",
       "    }\n",
       "\n",
       "    .dataframe thead th {\n",
       "        text-align: right;\n",
       "    }\n",
       "</style>\n",
       "<table border=\"1\" class=\"dataframe\">\n",
       "  <thead>\n",
       "    <tr style=\"text-align: right;\">\n",
       "      <th></th>\n",
       "      <th>Price</th>\n",
       "      <th>Acres</th>\n",
       "      <th>Years Old</th>\n",
       "      <th>DoM</th>\n",
       "    </tr>\n",
       "  </thead>\n",
       "  <tbody>\n",
       "    <tr>\n",
       "      <th>0</th>\n",
       "      <td>330.0</td>\n",
       "      <td>0.23</td>\n",
       "      <td>4</td>\n",
       "      <td>127</td>\n",
       "    </tr>\n",
       "    <tr>\n",
       "      <th>1</th>\n",
       "      <td>400.0</td>\n",
       "      <td>0.17</td>\n",
       "      <td>5</td>\n",
       "      <td>98</td>\n",
       "    </tr>\n",
       "    <tr>\n",
       "      <th>2</th>\n",
       "      <td>416.0</td>\n",
       "      <td>0.18</td>\n",
       "      <td>16</td>\n",
       "      <td>105</td>\n",
       "    </tr>\n",
       "    <tr>\n",
       "      <th>3</th>\n",
       "      <td>420.0</td>\n",
       "      <td>0.29</td>\n",
       "      <td>80</td>\n",
       "      <td>103</td>\n",
       "    </tr>\n",
       "    <tr>\n",
       "      <th>4</th>\n",
       "      <td>496.0</td>\n",
       "      <td>0.52</td>\n",
       "      <td>9</td>\n",
       "      <td>39</td>\n",
       "    </tr>\n",
       "  </tbody>\n",
       "</table>\n",
       "</div>"
      ],
      "text/plain": [
       "   Price  Acres  Years Old  DoM\n",
       "0  330.0   0.23          4  127\n",
       "1  400.0   0.17          5   98\n",
       "2  416.0   0.18         16  105\n",
       "3  420.0   0.29         80  103\n",
       "4  496.0   0.52          9   39"
      ]
     },
     "execution_count": 2,
     "metadata": {},
     "output_type": "execute_result"
    }
   ],
   "source": [
    "df1 = pd.read_csv('Part1_Case Study _9.csv')\n",
    "df1.head()"
   ]
  },
  {
   "cell_type": "code",
   "execution_count": 3,
   "id": "5b2318b7",
   "metadata": {},
   "outputs": [
    {
     "name": "stdout",
     "output_type": "stream",
     "text": [
      "<class 'pandas.core.frame.DataFrame'>\n",
      "RangeIndex: 45 entries, 0 to 44\n",
      "Data columns (total 4 columns):\n",
      " #   Column     Non-Null Count  Dtype  \n",
      "---  ------     --------------  -----  \n",
      " 0   Price      45 non-null     float64\n",
      " 1   Acres      45 non-null     float64\n",
      " 2   Years Old  45 non-null     int64  \n",
      " 3   DoM        45 non-null     int64  \n",
      "dtypes: float64(2), int64(2)\n",
      "memory usage: 1.5 KB\n"
     ]
    }
   ],
   "source": [
    "# Checking the number of observations and their data types.  For ML, we need all data types to be numeric\n",
    "df1.info()"
   ]
  },
  {
   "cell_type": "markdown",
   "id": "c26f3abd",
   "metadata": {},
   "source": [
    "# Splitting the data into train and test sets"
   ]
  },
  {
   "cell_type": "code",
   "execution_count": 7,
   "id": "03e11c9a",
   "metadata": {},
   "outputs": [
    {
     "name": "stdout",
     "output_type": "stream",
     "text": [
      "X Train shape: (40, 3)\n",
      "y Train shape: (40,)\n",
      "X Test shape: (5, 3)\n",
      "y Test shape: (5,)\n"
     ]
    }
   ],
   "source": [
    "X = df1.drop('Price',axis=1) # a dataframe for all the regressor variables\n",
    "y = df1.Price # a dataframe for the regressand variable\n",
    "\n",
    "X_train, X_test, y_train, y_test = train_test_split(X, y, test_size=0.1, random_state=seed) \n",
    "# the test size is only 10% of the data since the data set is small which leave 90% of the data for training\n",
    "\n",
    "print(f'X Train shape: {X_train.shape}') # (rows, columns)\n",
    "print(f'y Train shape: {y_train.shape}') # (rows, columns)\n",
    "print(f'X Test shape: {X_test.shape}') # (rows, columns)\n",
    "print(f'y Test shape: {y_test.shape}') # (rows, columns)"
   ]
  },
  {
   "cell_type": "markdown",
   "id": "6eee2bed",
   "metadata": {},
   "source": [
    "# Random Forest Training\n",
    "* No hypertuning is done here"
   ]
  },
  {
   "cell_type": "code",
   "execution_count": 15,
   "id": "dcf100ea",
   "metadata": {},
   "outputs": [
    {
     "data": {
      "text/html": [
       "<style>#sk-container-id-2 {color: black;background-color: white;}#sk-container-id-2 pre{padding: 0;}#sk-container-id-2 div.sk-toggleable {background-color: white;}#sk-container-id-2 label.sk-toggleable__label {cursor: pointer;display: block;width: 100%;margin-bottom: 0;padding: 0.3em;box-sizing: border-box;text-align: center;}#sk-container-id-2 label.sk-toggleable__label-arrow:before {content: \"▸\";float: left;margin-right: 0.25em;color: #696969;}#sk-container-id-2 label.sk-toggleable__label-arrow:hover:before {color: black;}#sk-container-id-2 div.sk-estimator:hover label.sk-toggleable__label-arrow:before {color: black;}#sk-container-id-2 div.sk-toggleable__content {max-height: 0;max-width: 0;overflow: hidden;text-align: left;background-color: #f0f8ff;}#sk-container-id-2 div.sk-toggleable__content pre {margin: 0.2em;color: black;border-radius: 0.25em;background-color: #f0f8ff;}#sk-container-id-2 input.sk-toggleable__control:checked~div.sk-toggleable__content {max-height: 200px;max-width: 100%;overflow: auto;}#sk-container-id-2 input.sk-toggleable__control:checked~label.sk-toggleable__label-arrow:before {content: \"▾\";}#sk-container-id-2 div.sk-estimator input.sk-toggleable__control:checked~label.sk-toggleable__label {background-color: #d4ebff;}#sk-container-id-2 div.sk-label input.sk-toggleable__control:checked~label.sk-toggleable__label {background-color: #d4ebff;}#sk-container-id-2 input.sk-hidden--visually {border: 0;clip: rect(1px 1px 1px 1px);clip: rect(1px, 1px, 1px, 1px);height: 1px;margin: -1px;overflow: hidden;padding: 0;position: absolute;width: 1px;}#sk-container-id-2 div.sk-estimator {font-family: monospace;background-color: #f0f8ff;border: 1px dotted black;border-radius: 0.25em;box-sizing: border-box;margin-bottom: 0.5em;}#sk-container-id-2 div.sk-estimator:hover {background-color: #d4ebff;}#sk-container-id-2 div.sk-parallel-item::after {content: \"\";width: 100%;border-bottom: 1px solid gray;flex-grow: 1;}#sk-container-id-2 div.sk-label:hover label.sk-toggleable__label {background-color: #d4ebff;}#sk-container-id-2 div.sk-serial::before {content: \"\";position: absolute;border-left: 1px solid gray;box-sizing: border-box;top: 0;bottom: 0;left: 50%;z-index: 0;}#sk-container-id-2 div.sk-serial {display: flex;flex-direction: column;align-items: center;background-color: white;padding-right: 0.2em;padding-left: 0.2em;position: relative;}#sk-container-id-2 div.sk-item {position: relative;z-index: 1;}#sk-container-id-2 div.sk-parallel {display: flex;align-items: stretch;justify-content: center;background-color: white;position: relative;}#sk-container-id-2 div.sk-item::before, #sk-container-id-2 div.sk-parallel-item::before {content: \"\";position: absolute;border-left: 1px solid gray;box-sizing: border-box;top: 0;bottom: 0;left: 50%;z-index: -1;}#sk-container-id-2 div.sk-parallel-item {display: flex;flex-direction: column;z-index: 1;position: relative;background-color: white;}#sk-container-id-2 div.sk-parallel-item:first-child::after {align-self: flex-end;width: 50%;}#sk-container-id-2 div.sk-parallel-item:last-child::after {align-self: flex-start;width: 50%;}#sk-container-id-2 div.sk-parallel-item:only-child::after {width: 0;}#sk-container-id-2 div.sk-dashed-wrapped {border: 1px dashed gray;margin: 0 0.4em 0.5em 0.4em;box-sizing: border-box;padding-bottom: 0.4em;background-color: white;}#sk-container-id-2 div.sk-label label {font-family: monospace;font-weight: bold;display: inline-block;line-height: 1.2em;}#sk-container-id-2 div.sk-label-container {text-align: center;}#sk-container-id-2 div.sk-container {/* jupyter's `normalize.less` sets `[hidden] { display: none; }` but bootstrap.min.css set `[hidden] { display: none !important; }` so we also need the `!important` here to be able to override the default hidden behavior on the sphinx rendered scikit-learn.org. See: https://github.com/scikit-learn/scikit-learn/issues/21755 */display: inline-block !important;position: relative;}#sk-container-id-2 div.sk-text-repr-fallback {display: none;}</style><div id=\"sk-container-id-2\" class=\"sk-top-container\"><div class=\"sk-text-repr-fallback\"><pre>RandomForestRegressor(n_jobs=-1, random_state=77)</pre><b>In a Jupyter environment, please rerun this cell to show the HTML representation or trust the notebook. <br />On GitHub, the HTML representation is unable to render, please try loading this page with nbviewer.org.</b></div><div class=\"sk-container\" hidden><div class=\"sk-item\"><div class=\"sk-estimator sk-toggleable\"><input class=\"sk-toggleable__control sk-hidden--visually\" id=\"sk-estimator-id-2\" type=\"checkbox\" checked><label for=\"sk-estimator-id-2\" class=\"sk-toggleable__label sk-toggleable__label-arrow\">RandomForestRegressor</label><div class=\"sk-toggleable__content\"><pre>RandomForestRegressor(n_jobs=-1, random_state=77)</pre></div></div></div></div></div>"
      ],
      "text/plain": [
       "RandomForestRegressor(n_jobs=-1, random_state=77)"
      ]
     },
     "execution_count": 15,
     "metadata": {},
     "output_type": "execute_result"
    }
   ],
   "source": [
    "# creating the algorithm object\n",
    "rfr = RandomForestRegressor( # these are all hyperparameters\n",
    "    n_estimators=100,\n",
    "    criterion='squared_error',\n",
    "    max_depth=None,\n",
    "    min_samples_split=2,\n",
    "    min_samples_leaf=1,\n",
    "    min_weight_fraction_leaf=0.0,\n",
    "    max_features=1.0,\n",
    "    max_leaf_nodes=None,\n",
    "    min_impurity_decrease=0.0,\n",
    "    bootstrap=True,\n",
    "    oob_score=False,\n",
    "    n_jobs=-1, # allows all of your processing cores to be used\n",
    "    random_state=seed, \n",
    "    verbose=0,\n",
    "    warm_start=False,\n",
    "    ccp_alpha=0.0,\n",
    "    max_samples=None,\n",
    ")\n",
    "\n",
    "\n",
    "rfr.fit(X_train, y_train) # training the model with the training data"
   ]
  },
  {
   "cell_type": "markdown",
   "id": "89d48f80",
   "metadata": {},
   "source": [
    "# Scoring the trained model on the data it was trained with"
   ]
  },
  {
   "cell_type": "code",
   "execution_count": 16,
   "id": "0f051d28",
   "metadata": {},
   "outputs": [
    {
     "name": "stdout",
     "output_type": "stream",
     "text": [
      "Training R2 score: 0.8373\n",
      "Training RMSE: 53.7952\n"
     ]
    }
   ],
   "source": [
    "y_pred_train = rfr.predict(X_train)\n",
    "\n",
    "train_r2 = r2_score(y_true=y_train, y_pred=y_pred_train)\n",
    "print(f'Training R2 score: {train_r2:.4f}')\n",
    "\n",
    "train_rmse = mean_squared_error(y_true=y_train, y_pred=y_pred_train, squared=False) # squared=False turns MSE into RMSE\n",
    "print(f'Training RMSE: {train_rmse:.4f}')"
   ]
  },
  {
   "cell_type": "markdown",
   "id": "628df194",
   "metadata": {},
   "source": [
    "# Important Regressors"
   ]
  },
  {
   "cell_type": "code",
   "execution_count": 22,
   "id": "48dd0041",
   "metadata": {},
   "outputs": [],
   "source": [
    "def feature_importance(model,x):\n",
    "    importance = model.feature_importances_ # important regressors as the random forest see it\n",
    "    regressors = X.columns\n",
    "    plt.figure(dpi=150)\n",
    "    sns.barplot(x=regressors, y=importance)\n",
    "    plt.xlabel('Regressors')\n",
    "    plt.ylabel('Importance')"
   ]
  },
  {
   "cell_type": "code",
   "execution_count": 23,
   "id": "9a5fea16",
   "metadata": {},
   "outputs": [
    {
     "data": {
      "image/png": "[encoded data removed]",
      "text/plain": [
       "<Figure size 960x720 with 1 Axes>"
      ]
     },
     "metadata": {},
     "output_type": "display_data"
    }
   ],
   "source": [
    "feature_importance(rfr,x=X)"
   ]
  },
  {
   "cell_type": "markdown",
   "id": "2a3292ea",
   "metadata": {},
   "source": [
    "# Scoring the trained model on the test data that it has never seen before"
   ]
  },
  {
   "cell_type": "code",
   "execution_count": 25,
   "id": "d211d511",
   "metadata": {},
   "outputs": [
    {
     "name": "stdout",
     "output_type": "stream",
     "text": [
      "Test R2 score: 0.2540\n",
      "Test RMSE: 67.2602\n",
      "The model did not perform well on testing data, BUT it performed better than MLR\n",
      "Recall the MLR scores were: R2 of 0.126 and an RMSE of 122.57\n"
     ]
    }
   ],
   "source": [
    "y_pred_test = rfr.predict(X_test)\n",
    "\n",
    "test_r2 = r2_score(y_true=y_test, y_pred=y_pred_test)\n",
    "print(f'Test R2 score: {test_r2:.4f}')\n",
    "\n",
    "test_rmse = mean_squared_error(y_true=y_test, y_pred=y_pred_test, squared=False) # squared=False turns MSE into RMSE\n",
    "print(f'Test RMSE: {test_rmse:.4f}')\n",
    "print(f'The model did not perform well on testing data, BUT it performed better than MLR')\n",
    "print('Recall the MLR scores were: R2 of 0.126 and an RMSE of 122.57')"
   ]
  },
  {
   "cell_type": "code",
   "execution_count": null,
   "id": "02297fde",
   "metadata": {},
   "outputs": [],
   "source": []
  },
  {
   "cell_type": "code",
   "execution_count": null,
   "id": "80089ebb",
   "metadata": {},
   "outputs": [],
   "source": []
  },
  {
   "cell_type": "code",
   "execution_count": null,
   "id": "30b30326",
   "metadata": {},
   "outputs": [],
   "source": []
  },
  {
   "cell_type": "code",
   "execution_count": null,
   "id": "1bffadf9",
   "metadata": {},
   "outputs": [],
   "source": []
  },
  {
   "cell_type": "markdown",
   "id": "a2dc262f",
   "metadata": {},
   "source": [
    "# Random Forest hypertuning and training the model\n",
    "* Neg RMSE is the metric being used for the optimization metric.\n",
    "* It has to be a negative because of the way the optimization algorithm works. The algorithm is designed to maximize a metric and RMSE is not something you want to maximize.  So, maximizing a negative RMSE is the same as minimizing RMSE. \n",
    "* Other scoring metrics here: https://scikit-learn.org/stable/modules/model_evaluation.html"
   ]
  },
  {
   "cell_type": "code",
   "execution_count": 45,
   "id": "9f8add73",
   "metadata": {},
   "outputs": [
    {
     "name": "stdout",
     "output_type": "stream",
     "text": [
      "Best Params: {'max_depth': 1, 'max_features': 0.6892413819508358, 'n_estimators': 195}\n",
      "Best RMSE: 128.8171\n",
      "CPU times: total: 1.55 s\n",
      "Wall time: 31.8 s\n"
     ]
    }
   ],
   "source": [
    "%%time \n",
    "# times how long this tuning process takes\n",
    "\n",
    "# creating the algorithm object\n",
    "rfr = RandomForestRegressor(\n",
    "    criterion='squared_error',\n",
    "    n_jobs=-1, # allows all of your processing cores to be used\n",
    "    random_state=seed, \n",
    ")\n",
    "\n",
    "\n",
    "params = dict( # only going to tune a few hyperparameters because the dataset is small\n",
    "    n_estimators = sp.stats.randint(100, 500-100),\n",
    "    max_depth = [None,1,2,3,4,5],\n",
    "    max_features = sp.stats.uniform(0.25, 1-0.5),\n",
    ")\n",
    "\n",
    "rand_search = RandomizedSearchCV(\n",
    "    estimator=rfr,\n",
    "    param_distributions=params, # the params to randomly select during cross-validation training\n",
    "    n_iter=200, # number of time to randomly test different parameteres.  The larger the longer it takes to tune.\n",
    "    scoring='neg_root_mean_squared_error', # has to be a negative because the way the optimization algorithm works.  Other scoring metrics here: https://scikit-learn.org/stable/modules/model_evaluation.html\n",
    "    n_jobs=-1,\n",
    "    refit=True,\n",
    "    cv=3, # number of folds in the cross-validation.   The larger the longer it takes to tune.\n",
    "    random_state=seed,\n",
    ")\n",
    "\n",
    "\n",
    "\n",
    "\n",
    "rand_search.fit(X_train, y_train) # hypertuning and training the model\n",
    "\n",
    "print(f'Best Params: {rand_search.best_params_}')\n",
    "print(f'Best RMSE: {-1*rand_search.best_score_:.4f}')"
   ]
  },
  {
   "cell_type": "markdown",
   "id": "63faca6b",
   "metadata": {},
   "source": [
    "# Training the model with the selected hyperparams"
   ]
  },
  {
   "cell_type": "code",
   "execution_count": 50,
   "id": "f095f1e9",
   "metadata": {},
   "outputs": [
    {
     "name": "stdout",
     "output_type": "stream",
     "text": [
      "Training R2 score: 0.2094\n",
      "Training RMSE: 118.5890\n"
     ]
    }
   ],
   "source": [
    "rfr = RandomForestRegressor(**rand_search.best_params_, # unpacking a the best hyperparameter dictionary of the best hyperparameters to a new Random Forest object\n",
    "                            n_jobs=-1, \n",
    "                            random_state=seed) \n",
    "\n",
    "rfr.fit(X_train,y_train)\n",
    "\n",
    "y_pred_train2 = rfr.predict(X_train)\n",
    "\n",
    "train_r2_2 = r2_score(y_true=y_train, y_pred=y_pred_train2)\n",
    "print(f'Training R2 score: {train_r2_2:.4f}')\n",
    "\n",
    "train_rmse_2 = mean_squared_error(y_true=y_train, y_pred=y_pred_train2, squared=False) # squared=False turns MSE into RMSE\n",
    "print(f'Training RMSE: {train_rmse_2:.4f}')"
   ]
  },
  {
   "cell_type": "code",
   "execution_count": 51,
   "id": "048804be",
   "metadata": {},
   "outputs": [
    {
     "data": {
      "image/png": "[encoded data removed]",
      "text/plain": [
       "<Figure size 960x720 with 1 Axes>"
      ]
     },
     "metadata": {},
     "output_type": "display_data"
    }
   ],
   "source": [
    "feature_importance(rfr,x=X)"
   ]
  },
  {
   "cell_type": "markdown",
   "id": "0df086fc",
   "metadata": {},
   "source": [
    "# Scoring the trained model on the test data that it has never seen before"
   ]
  },
  {
   "cell_type": "code",
   "execution_count": 52,
   "id": "9c201c47",
   "metadata": {},
   "outputs": [
    {
     "name": "stdout",
     "output_type": "stream",
     "text": [
      "Test R2 score: -0.5331\n",
      "Test RMSE: 96.4181\n",
      "The model did not perform well on testing data, but for some reason its RMSE is low and yet has a negative R2\n",
      "Recall the MLR scores were: R2 of 0.126 and an RMSE of 122.57\n"
     ]
    }
   ],
   "source": [
    "y_pred_test_2 = rfr.predict(X_test)\n",
    "\n",
    "test_r2_2 = r2_score(y_true=y_test, y_pred=y_pred_test_2)\n",
    "print(f'Test R2 score: {test_r2_2:.4f}')\n",
    "\n",
    "test_rmse_2 = mean_squared_error(y_true=y_test, y_pred=y_pred_test_2, squared=False) # squared=False turns MSE into RMSE\n",
    "print(f'Test RMSE: {test_rmse_2:.4f}')\n",
    "print(f'The model did not perform well on testing data, but for some reason its RMSE is low and yet has a negative R2')\n",
    "print('Recall the MLR scores were: R2 of 0.126 and an RMSE of 122.57')"
   ]
  },
  {
   "cell_type": "markdown",
   "id": "b73dc3e2",
   "metadata": {},
   "source": [
    "# Notes\n",
    "* There is not enough data to use Random Forest.\n",
    "* It does not matter how much one could attempt to hypertune the model, it simply needs more data."
   ]
  },
  {
   "cell_type": "code",
   "execution_count": null,
   "id": "a4ef89a8",
   "metadata": {},
   "outputs": [],
   "source": []
  }
 ],
 "metadata": {
  "kernelspec": {
   "display_name": "Python [conda env:DS_Python311_JAN2023] *",
   "language": "python",
   "name": "conda-env-DS_Python311_JAN2023-py"
  },
  "language_info": {
   "codemirror_mode": {
    "name": "ipython",
    "version": 3
   },
   "file_extension": ".py",
   "mimetype": "text/x-python",
   "name": "python",
   "nbconvert_exporter": "python",
   "pygments_lexer": "ipython3",
   "version": "3.11.0"
  }
 },
 "nbformat": 4,
 "nbformat_minor": 5
}
