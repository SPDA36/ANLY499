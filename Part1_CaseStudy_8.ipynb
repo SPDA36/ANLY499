{
 "cells": [
  {
   "cell_type": "code",
   "execution_count": 31,
   "id": "bb695b26-a43f-4fe5-8ae9-1961dff6fd48",
   "metadata": {},
   "outputs": [],
   "source": [
    "import pingouin as pg\n",
    "import statsmodels.api as sm\n",
    "import statsmodels.formula.api as smf\n",
    "from stargazer.stargazer import Stargazer\n",
    "import scipy.stats as stats\n",
    "import numpy as np\n",
    "import pandas as pd\n",
    "import matplotlib.pyplot as plt\n",
    "import seaborn as sns"
   ]
  },
  {
   "cell_type": "code",
   "execution_count": 4,
   "id": "043721a6-f247-4f0a-8962-6f67c4bb22e2",
   "metadata": {},
   "outputs": [
    {
     "data": {
      "text/html": [
       "<div>\n",
       "<style scoped>\n",
       "    .dataframe tbody tr th:only-of-type {\n",
       "        vertical-align: middle;\n",
       "    }\n",
       "\n",
       "    .dataframe tbody tr th {\n",
       "        vertical-align: top;\n",
       "    }\n",
       "\n",
       "    .dataframe thead th {\n",
       "        text-align: right;\n",
       "    }\n",
       "</style>\n",
       "<table border=\"1\" class=\"dataframe\">\n",
       "  <thead>\n",
       "    <tr style=\"text-align: right;\">\n",
       "      <th></th>\n",
       "      <th>Price</th>\n",
       "      <th>Beds</th>\n",
       "      <th>Baths</th>\n",
       "      <th>Square Feet</th>\n",
       "    </tr>\n",
       "  </thead>\n",
       "  <tbody>\n",
       "    <tr>\n",
       "      <th>0</th>\n",
       "      <td>330.0</td>\n",
       "      <td>3</td>\n",
       "      <td>2.0</td>\n",
       "      <td>1771</td>\n",
       "    </tr>\n",
       "    <tr>\n",
       "      <th>1</th>\n",
       "      <td>400.0</td>\n",
       "      <td>3</td>\n",
       "      <td>2.0</td>\n",
       "      <td>1213</td>\n",
       "    </tr>\n",
       "    <tr>\n",
       "      <th>2</th>\n",
       "      <td>416.0</td>\n",
       "      <td>3</td>\n",
       "      <td>2.5</td>\n",
       "      <td>1884</td>\n",
       "    </tr>\n",
       "    <tr>\n",
       "      <th>3</th>\n",
       "      <td>420.0</td>\n",
       "      <td>3</td>\n",
       "      <td>2.0</td>\n",
       "      <td>1922</td>\n",
       "    </tr>\n",
       "    <tr>\n",
       "      <th>4</th>\n",
       "      <td>496.0</td>\n",
       "      <td>4</td>\n",
       "      <td>2.5</td>\n",
       "      <td>1858</td>\n",
       "    </tr>\n",
       "  </tbody>\n",
       "</table>\n",
       "</div>"
      ],
      "text/plain": [
       "   Price  Beds  Baths  Square Feet\n",
       "0  330.0     3    2.0         1771\n",
       "1  400.0     3    2.0         1213\n",
       "2  416.0     3    2.5         1884\n",
       "3  420.0     3    2.0         1922\n",
       "4  496.0     4    2.5         1858"
      ]
     },
     "execution_count": 4,
     "metadata": {},
     "output_type": "execute_result"
    }
   ],
   "source": [
    "df = pd.read_csv('Part1_Case Study _8.csv')\n",
    "df.head()"
   ]
  },
  {
   "cell_type": "code",
   "execution_count": 5,
   "id": "6f0002b9-6eb3-44f7-9ee8-de8c44e012ea",
   "metadata": {},
   "outputs": [
    {
     "name": "stdout",
     "output_type": "stream",
     "text": [
      "<class 'pandas.core.frame.DataFrame'>\n",
      "RangeIndex: 45 entries, 0 to 44\n",
      "Data columns (total 4 columns):\n",
      " #   Column       Non-Null Count  Dtype  \n",
      "---  ------       --------------  -----  \n",
      " 0   Price        45 non-null     float64\n",
      " 1   Beds         45 non-null     int64  \n",
      " 2   Baths        45 non-null     float64\n",
      " 3   Square Feet  45 non-null     int64  \n",
      "dtypes: float64(2), int64(2)\n",
      "memory usage: 1.5 KB\n"
     ]
    }
   ],
   "source": [
    "df.info()"
   ]
  },
  {
   "cell_type": "markdown",
   "id": "25ba2523-1b6e-4192-973c-02c410ddedce",
   "metadata": {},
   "source": [
    "# 1. Obtain the summary statistics for the variables and comment on them"
   ]
  },
  {
   "cell_type": "code",
   "execution_count": 6,
   "id": "6a2fb9df-567e-4416-a224-bdc1c761682c",
   "metadata": {},
   "outputs": [
    {
     "data": {
      "text/html": [
       "<div>\n",
       "<style scoped>\n",
       "    .dataframe tbody tr th:only-of-type {\n",
       "        vertical-align: middle;\n",
       "    }\n",
       "\n",
       "    .dataframe tbody tr th {\n",
       "        vertical-align: top;\n",
       "    }\n",
       "\n",
       "    .dataframe thead th {\n",
       "        text-align: right;\n",
       "    }\n",
       "</style>\n",
       "<table border=\"1\" class=\"dataframe\">\n",
       "  <thead>\n",
       "    <tr style=\"text-align: right;\">\n",
       "      <th></th>\n",
       "      <th>count</th>\n",
       "      <th>mean</th>\n",
       "      <th>std</th>\n",
       "      <th>min</th>\n",
       "      <th>25%</th>\n",
       "      <th>50%</th>\n",
       "      <th>75%</th>\n",
       "      <th>max</th>\n",
       "    </tr>\n",
       "  </thead>\n",
       "  <tbody>\n",
       "    <tr>\n",
       "      <th>Price</th>\n",
       "      <td>45.0</td>\n",
       "      <td>391.191111</td>\n",
       "      <td>132.600555</td>\n",
       "      <td>160.0</td>\n",
       "      <td>300.0</td>\n",
       "      <td>378.0</td>\n",
       "      <td>496.0</td>\n",
       "      <td>690.00</td>\n",
       "    </tr>\n",
       "    <tr>\n",
       "      <th>Beds</th>\n",
       "      <td>45.0</td>\n",
       "      <td>3.288889</td>\n",
       "      <td>1.160373</td>\n",
       "      <td>1.0</td>\n",
       "      <td>3.0</td>\n",
       "      <td>3.0</td>\n",
       "      <td>4.0</td>\n",
       "      <td>6.00</td>\n",
       "    </tr>\n",
       "    <tr>\n",
       "      <th>Baths</th>\n",
       "      <td>45.0</td>\n",
       "      <td>2.333333</td>\n",
       "      <td>0.992872</td>\n",
       "      <td>1.0</td>\n",
       "      <td>2.0</td>\n",
       "      <td>2.0</td>\n",
       "      <td>2.5</td>\n",
       "      <td>4.75</td>\n",
       "    </tr>\n",
       "    <tr>\n",
       "      <th>Square Feet</th>\n",
       "      <td>45.0</td>\n",
       "      <td>1900.711111</td>\n",
       "      <td>683.044708</td>\n",
       "      <td>768.0</td>\n",
       "      <td>1440.0</td>\n",
       "      <td>1858.0</td>\n",
       "      <td>2160.0</td>\n",
       "      <td>3875.00</td>\n",
       "    </tr>\n",
       "  </tbody>\n",
       "</table>\n",
       "</div>"
      ],
      "text/plain": [
       "             count         mean         std    min     25%     50%     75%  \\\n",
       "Price         45.0   391.191111  132.600555  160.0   300.0   378.0   496.0   \n",
       "Beds          45.0     3.288889    1.160373    1.0     3.0     3.0     4.0   \n",
       "Baths         45.0     2.333333    0.992872    1.0     2.0     2.0     2.5   \n",
       "Square Feet   45.0  1900.711111  683.044708  768.0  1440.0  1858.0  2160.0   \n",
       "\n",
       "                 max  \n",
       "Price         690.00  \n",
       "Beds            6.00  \n",
       "Baths           4.75  \n",
       "Square Feet  3875.00  "
      ]
     },
     "execution_count": 6,
     "metadata": {},
     "output_type": "execute_result"
    }
   ],
   "source": [
    "df.describe().T"
   ]
  },
  {
   "cell_type": "markdown",
   "id": "4d7d8fa3-5186-4085-966d-7877d5f7f3ba",
   "metadata": {},
   "source": [
    "# 2. Comment on the distributions of data for the variables? Are they symmetrical? Skewed?"
   ]
  },
  {
   "cell_type": "code",
   "execution_count": 17,
   "id": "5650abcd-8bf2-4750-854d-bc0521bef710",
   "metadata": {},
   "outputs": [
    {
     "data": {
      "image/png": "[encoded data removed]",
      "text/plain": [
       "<Figure size 1000x500 with 2 Axes>"
      ]
     },
     "metadata": {},
     "output_type": "display_data"
    },
    {
     "data": {
      "image/png": "[encoded data removed]",
      "text/plain": [
       "<Figure size 1000x500 with 2 Axes>"
      ]
     },
     "metadata": {},
     "output_type": "display_data"
    }
   ],
   "source": [
    "fig, axs = plt.subplots(1,2,figsize=(10,5))\n",
    "cols1 = ['Price', 'Square Feet']\n",
    "\n",
    "for i,ax in enumerate(axs.flatten()):\n",
    "    ax.hist(df[cols1[i]],edgecolor='w')\n",
    "    ax.set_xlabel(cols1[i])\n",
    "plt.show()\n",
    "\n",
    "fig, axs = plt.subplots(1,2,figsize=(10,5))\n",
    "cols2 = ['Beds', 'Baths']\n",
    "for i,ax in enumerate(axs.flatten()):\n",
    "    sns.countplot(x=df[cols2[i]],ax=ax)\n",
    "    ax.set_xlabel(cols2[i])\n",
    "plt.show()"
   ]
  },
  {
   "cell_type": "markdown",
   "id": "ba6404d2-28d2-4266-a8a4-ad9554306aba",
   "metadata": {},
   "source": [
    "# 3. Obtain the correlations between variables and comment on them?\n",
    "* Price is strongly correlated with all of the independent variables.\n",
    "* The independent variables are strongly correlated with each other.\n",
    "* Since the independent variables are strongly correlated with each other, it might be difficult for the regression model to determine explanatory power of each variable.\n",
    "* Thus, since Baths has the highest correlation with Price, there is a chance Baths might be the only statistically significant variable."
   ]
  },
  {
   "cell_type": "code",
   "execution_count": 28,
   "id": "7d5c7b95-b500-4437-95e6-407d93954aed",
   "metadata": {},
   "outputs": [
    {
     "data": {
      "image/png": "[encoded data removed]",
      "text/plain": [
       "<Figure size 1200x1000 with 2 Axes>"
      ]
     },
     "metadata": {},
     "output_type": "display_data"
    }
   ],
   "source": [
    "plt.figure(figsize=(12,10))\n",
    "sns.heatmap(df.corr(),annot=True,cmap='Blues',annot_kws={'fontsize':15})\n",
    "plt.xticks(size=15)\n",
    "plt.yticks(size=15)\n",
    "plt.show()"
   ]
  },
  {
   "cell_type": "markdown",
   "id": "1d13cde0-47ac-4edb-8d85-86d7b20fdffa",
   "metadata": {},
   "source": [
    "# 4. Perform a multiple linear regression analysis with selling price as the response variable and number of square feet, number of bed rooms and number of bath rooms as predictor variables."
   ]
  },
  {
   "cell_type": "code",
   "execution_count": 59,
   "id": "7a899b08-569a-45ec-a968-184b32b2c23b",
   "metadata": {},
   "outputs": [
    {
     "data": {
      "text/html": [
       "<table style=\"text-align:center\"><tr><td colspan=\"5\" style=\"border-bottom: 1px solid black\"></td></tr><tr><td style=\"text-align:left\"></td><tr><td></td><td colspan=\"1\">Model 1</td><td colspan=\"1\">Model 2</td><td colspan=\"1\">Model 3</td><td colspan=\"1\">Model 4</td></tr><tr><td colspan=\"5\" style=\"border-bottom: 1px solid black\"></td></tr><tr><td style=\"text-align:left\">Baths</td><td>79.901<sup>***</sup></td><td>88.656<sup>***</sup></td><td>106.862<sup>***</sup></td><td>0.188<sup>***</sup></td></tr><tr><td style=\"text-align:left\"></td><td>(21.370)</td><td>(19.850)</td><td>(12.216)</td><td>(0.057)</td></tr><tr><td style=\"text-align:left\">Beds</td><td>17.835<sup></sup></td><td></td><td></td><td>0.044<sup></sup></td></tr><tr><td style=\"text-align:left\"></td><td>(16.354)</td><td></td><td></td><td>(0.046)</td></tr><tr><td style=\"text-align:left\">Intercept</td><td>105.261<sup>***</sup></td><td>120.666<sup>***</sup></td><td>141.847<sup>***</sup></td><td>3.816<sup>***</sup></td></tr><tr><td style=\"text-align:left\"></td><td>(38.410)</td><td>(35.799)</td><td>(30.924)</td><td>(1.076)</td></tr><tr><td style=\"text-align:left\">Q(\"Square Feet\")</td><td>0.021<sup></sup></td><td>0.033<sup></sup></td><td></td><td></td></tr><tr><td style=\"text-align:left\"></td><td>(0.031)</td><td>(0.029)</td><td></td><td></td></tr><tr><td style=\"text-align:left\">np.log(Q(\"Square Feet\"))</td><td></td><td></td><td></td><td>0.202<sup></sup></td></tr><tr><td style=\"text-align:left\"></td><td></td><td></td><td></td><td>(0.160)</td></tr><td colspan=\"5\" style=\"border-bottom: 1px solid black\"></td></tr><tr><td style=\"text-align: left\">Observations</td><td>45</td><td>45</td><td>45</td><td>45</td></tr><tr><td style=\"text-align: left\">R<sup>2</sup></td><td>0.661</td><td>0.651</td><td>0.640</td><td>0.650</td></tr><tr><td style=\"text-align: left\">Adjusted R<sup>2</sup></td><td>0.636</td><td>0.635</td><td>0.632</td><td>0.624</td></tr><tr><td style=\"text-align: left\">Residual Std. Error</td><td>79.950</td><td>80.130</td><td>80.454</td><td>0.219</td></tr><tr><td style=\"text-align: left\">F Statistic</td><td>26.678<sup>***</sup></td><td>39.245<sup>***</sup></td><td>76.524<sup>***</sup></td><td>25.367<sup>***</sup></td></tr><tr><td colspan=\"5\" style=\"border-bottom: 1px solid black\"></td></tr><tr><td style=\"text-align: left\">Note:</td>\n",
       " <td colspan=\"4\" style=\"text-align: right\">\n",
       "  <sup>*</sup>p&lt;0.1;\n",
       "  <sup>**</sup>p&lt;0.05;\n",
       "  <sup>***</sup>p&lt;0.01\n",
       " </td></tr></table>"
      ],
      "text/plain": [
       "<stargazer.stargazer.Stargazer at 0x27285220a30>"
      ]
     },
     "execution_count": 59,
     "metadata": {},
     "output_type": "execute_result"
    }
   ],
   "source": [
    "fm1 = 'Price ~ Beds + Baths + Q(\"Square Feet\")'\n",
    "model1 = smf.ols(formula=fm1,data=df).fit()\n",
    "\n",
    "fm2 = 'Price ~ Baths + Q(\"Square Feet\")'\n",
    "model2 = smf.ols(formula=fm2,data=df).fit()\n",
    "\n",
    "fm3 = 'Price ~ Baths'\n",
    "model3 = smf.ols(formula=fm3,data=df).fit()\n",
    "\n",
    "fm4 = 'np.log(Price) ~ Beds + Baths + np.log(Q(\"Square Feet\"))'\n",
    "model4 = smf.ols(formula=fm4,data=df).fit()\n",
    "\n",
    "results = Stargazer([model1,model2,model3,model4])\n",
    "results.custom_columns(['Model 1','Model 2','Model 3','Model 4'],[1,1,1,1])\n",
    "results.show_model_numbers(False)\n",
    "results.show_degrees_of_freedom(False)\n",
    "results"
   ]
  },
  {
   "cell_type": "code",
   "execution_count": 53,
   "id": "f293b345-3345-49a0-820f-8fd5026bf623",
   "metadata": {},
   "outputs": [],
   "source": [
    "# null = 'C(Baths)[T.1.75] = 0,C(Baths)[T.2.0] = 0,C(Baths)[T.2.25] = 0,C(Baths)[T.2.5] = 0,C(Baths)[T.2.75] = 0,C(Baths)[T.3.75] = 0,C(Baths)[T.4.0] = 0,C(Baths)[T.4.5] = 0,C(Baths)[T.4.75] = 0'\n",
    "# model1.f_test(null)"
   ]
  },
  {
   "cell_type": "code",
   "execution_count": 51,
   "id": "0ad07919-c6c7-4f62-9173-85f1a46682c6",
   "metadata": {},
   "outputs": [
    {
     "data": {
      "text/plain": [
       "<class 'statsmodels.stats.contrast.ContrastResults'>\n",
       "<F test: F=1.2714908815713701, p=0.291237079797721, df_denom=41, df_num=2>"
      ]
     },
     "execution_count": 51,
     "metadata": {},
     "output_type": "execute_result"
    }
   ],
   "source": [
    "null = 'Beds = 0, Q(\"Square Feet\") = 0'\n",
    "model1.f_test(null)"
   ]
  },
  {
   "cell_type": "code",
   "execution_count": 52,
   "id": "88e0b0a4-b74e-4319-8680-3088e71d9772",
   "metadata": {},
   "outputs": [],
   "source": [
    "# null = 'C(Beds)[T.2] = 0, C(Beds)[T.3] = 0, C(Beds)[T.4] = 0, C(Beds)[T.5] = 0, C(Beds)[T.6] = 0'\n",
    "# model1.f_test(null)"
   ]
  },
  {
   "cell_type": "code",
   "execution_count": 45,
   "id": "e92208ab-b0dc-453b-bd7e-4b71f1934a35",
   "metadata": {},
   "outputs": [
    {
     "data": {
      "text/html": [
       "<div>\n",
       "<style scoped>\n",
       "    .dataframe tbody tr th:only-of-type {\n",
       "        vertical-align: middle;\n",
       "    }\n",
       "\n",
       "    .dataframe tbody tr th {\n",
       "        vertical-align: top;\n",
       "    }\n",
       "\n",
       "    .dataframe thead th {\n",
       "        text-align: right;\n",
       "    }\n",
       "</style>\n",
       "<table border=\"1\" class=\"dataframe\">\n",
       "  <thead>\n",
       "    <tr style=\"text-align: right;\">\n",
       "      <th></th>\n",
       "      <th>sum_sq</th>\n",
       "      <th>df</th>\n",
       "      <th>F</th>\n",
       "      <th>PR(&gt;F)</th>\n",
       "    </tr>\n",
       "  </thead>\n",
       "  <tbody>\n",
       "    <tr>\n",
       "      <th>Beds</th>\n",
       "      <td>7602.861857</td>\n",
       "      <td>1.0</td>\n",
       "      <td>1.189425</td>\n",
       "      <td>0.281814</td>\n",
       "    </tr>\n",
       "    <tr>\n",
       "      <th>Baths</th>\n",
       "      <td>89355.352140</td>\n",
       "      <td>1.0</td>\n",
       "      <td>13.979138</td>\n",
       "      <td>0.000565</td>\n",
       "    </tr>\n",
       "    <tr>\n",
       "      <th>Q(\"Square Feet\")</th>\n",
       "      <td>3105.508300</td>\n",
       "      <td>1.0</td>\n",
       "      <td>0.485839</td>\n",
       "      <td>0.489723</td>\n",
       "    </tr>\n",
       "    <tr>\n",
       "      <th>Residual</th>\n",
       "      <td>262074.063055</td>\n",
       "      <td>41.0</td>\n",
       "      <td>NaN</td>\n",
       "      <td>NaN</td>\n",
       "    </tr>\n",
       "  </tbody>\n",
       "</table>\n",
       "</div>"
      ],
      "text/plain": [
       "                         sum_sq    df          F    PR(>F)\n",
       "Beds                7602.861857   1.0   1.189425  0.281814\n",
       "Baths              89355.352140   1.0  13.979138  0.000565\n",
       "Q(\"Square Feet\")    3105.508300   1.0   0.485839  0.489723\n",
       "Residual          262074.063055  41.0        NaN       NaN"
      ]
     },
     "execution_count": 45,
     "metadata": {},
     "output_type": "execute_result"
    }
   ],
   "source": [
    "sm.stats.anova_lm(model1,typ=2)"
   ]
  },
  {
   "cell_type": "code",
   "execution_count": 48,
   "id": "725a7a9c-56e7-48ef-824b-e38b265dce4c",
   "metadata": {},
   "outputs": [
    {
     "data": {
      "text/html": [
       "<div>\n",
       "<style scoped>\n",
       "    .dataframe tbody tr th:only-of-type {\n",
       "        vertical-align: middle;\n",
       "    }\n",
       "\n",
       "    .dataframe tbody tr th {\n",
       "        vertical-align: top;\n",
       "    }\n",
       "\n",
       "    .dataframe thead th {\n",
       "        text-align: right;\n",
       "    }\n",
       "</style>\n",
       "<table border=\"1\" class=\"dataframe\">\n",
       "  <thead>\n",
       "    <tr style=\"text-align: right;\">\n",
       "      <th></th>\n",
       "      <th>df_resid</th>\n",
       "      <th>ssr</th>\n",
       "      <th>df_diff</th>\n",
       "      <th>ss_diff</th>\n",
       "      <th>F</th>\n",
       "      <th>Pr(&gt;F)</th>\n",
       "    </tr>\n",
       "  </thead>\n",
       "  <tbody>\n",
       "    <tr>\n",
       "      <th>0</th>\n",
       "      <td>42.0</td>\n",
       "      <td>269676.924912</td>\n",
       "      <td>0.0</td>\n",
       "      <td>NaN</td>\n",
       "      <td>NaN</td>\n",
       "      <td>NaN</td>\n",
       "    </tr>\n",
       "    <tr>\n",
       "      <th>1</th>\n",
       "      <td>41.0</td>\n",
       "      <td>262074.063055</td>\n",
       "      <td>1.0</td>\n",
       "      <td>7602.861857</td>\n",
       "      <td>1.189425</td>\n",
       "      <td>0.281814</td>\n",
       "    </tr>\n",
       "  </tbody>\n",
       "</table>\n",
       "</div>"
      ],
      "text/plain": [
       "   df_resid            ssr  df_diff      ss_diff         F    Pr(>F)\n",
       "0      42.0  269676.924912      0.0          NaN       NaN       NaN\n",
       "1      41.0  262074.063055      1.0  7602.861857  1.189425  0.281814"
      ]
     },
     "execution_count": 48,
     "metadata": {},
     "output_type": "execute_result"
    }
   ],
   "source": [
    "sm.stats.anova_lm(model2,model1)"
   ]
  },
  {
   "cell_type": "code",
   "execution_count": 49,
   "id": "3e23fcd7-8774-4d65-bbd3-bf1f16157ec7",
   "metadata": {},
   "outputs": [
    {
     "data": {
      "text/html": [
       "<div>\n",
       "<style scoped>\n",
       "    .dataframe tbody tr th:only-of-type {\n",
       "        vertical-align: middle;\n",
       "    }\n",
       "\n",
       "    .dataframe tbody tr th {\n",
       "        vertical-align: top;\n",
       "    }\n",
       "\n",
       "    .dataframe thead th {\n",
       "        text-align: right;\n",
       "    }\n",
       "</style>\n",
       "<table border=\"1\" class=\"dataframe\">\n",
       "  <thead>\n",
       "    <tr style=\"text-align: right;\">\n",
       "      <th></th>\n",
       "      <th>df_resid</th>\n",
       "      <th>ssr</th>\n",
       "      <th>df_diff</th>\n",
       "      <th>ss_diff</th>\n",
       "      <th>F</th>\n",
       "      <th>Pr(&gt;F)</th>\n",
       "    </tr>\n",
       "  </thead>\n",
       "  <tbody>\n",
       "    <tr>\n",
       "      <th>0</th>\n",
       "      <td>43.0</td>\n",
       "      <td>278328.930444</td>\n",
       "      <td>0.0</td>\n",
       "      <td>NaN</td>\n",
       "      <td>NaN</td>\n",
       "      <td>NaN</td>\n",
       "    </tr>\n",
       "    <tr>\n",
       "      <th>1</th>\n",
       "      <td>41.0</td>\n",
       "      <td>262074.063055</td>\n",
       "      <td>2.0</td>\n",
       "      <td>16254.867389</td>\n",
       "      <td>1.271491</td>\n",
       "      <td>0.291237</td>\n",
       "    </tr>\n",
       "  </tbody>\n",
       "</table>\n",
       "</div>"
      ],
      "text/plain": [
       "   df_resid            ssr  df_diff       ss_diff         F    Pr(>F)\n",
       "0      43.0  278328.930444      0.0           NaN       NaN       NaN\n",
       "1      41.0  262074.063055      2.0  16254.867389  1.271491  0.291237"
      ]
     },
     "execution_count": 49,
     "metadata": {},
     "output_type": "execute_result"
    }
   ],
   "source": [
    "sm.stats.anova_lm(model3,model1)"
   ]
  },
  {
   "cell_type": "markdown",
   "id": "f769c613-7073-4d57-ad63-fccbd6c44ead",
   "metadata": {},
   "source": [
    "# 5. State the regression equation and interpret the regression coefficients.\n",
    "* $ \\hat{y} = 105.26 + 17.83(Beds) + 79.90(Baths) + 0.02(Square Feet) $"
   ]
  },
  {
   "cell_type": "code",
   "execution_count": 50,
   "id": "bd6ce150-14c6-4c50-be72-cd599ab38bc8",
   "metadata": {},
   "outputs": [
    {
     "data": {
      "text/plain": [
       "Intercept           105.261086\n",
       "Beds                 17.835406\n",
       "Baths                79.900956\n",
       "Q(\"Square Feet\")      0.021484\n",
       "dtype: float64"
      ]
     },
     "execution_count": 50,
     "metadata": {},
     "output_type": "execute_result"
    }
   ],
   "source": [
    "model1.params"
   ]
  },
  {
   "cell_type": "markdown",
   "id": "c8959989-1598-408b-b328-e0e3505a1388",
   "metadata": {
    "tags": []
   },
   "source": [
    "# 6. Comment on the goodness of fit of the regression equation for the data\n",
    "* Model 1 has an $R^2$ of 0.661 which suggest that the model captures 66.1% of the variation observed in Price."
   ]
  },
  {
   "cell_type": "code",
   "execution_count": 55,
   "id": "c5d0ccf3-916e-4cca-8c96-4ab9cc8d5a8f",
   "metadata": {},
   "outputs": [
    {
     "data": {
      "text/html": [
       "<table class=\"simpletable\">\n",
       "<caption>OLS Regression Results</caption>\n",
       "<tr>\n",
       "  <th>Dep. Variable:</th>          <td>Price</td>      <th>  R-squared:         </th> <td>   0.661</td>\n",
       "</tr>\n",
       "<tr>\n",
       "  <th>Model:</th>                   <td>OLS</td>       <th>  Adj. R-squared:    </th> <td>   0.636</td>\n",
       "</tr>\n",
       "<tr>\n",
       "  <th>Method:</th>             <td>Least Squares</td>  <th>  F-statistic:       </th> <td>   26.68</td>\n",
       "</tr>\n",
       "<tr>\n",
       "  <th>Date:</th>             <td>Sat, 13 May 2023</td> <th>  Prob (F-statistic):</th> <td>9.86e-10</td>\n",
       "</tr>\n",
       "<tr>\n",
       "  <th>Time:</th>                 <td>11:39:25</td>     <th>  Log-Likelihood:    </th> <td> -258.92</td>\n",
       "</tr>\n",
       "<tr>\n",
       "  <th>No. Observations:</th>      <td>    45</td>      <th>  AIC:               </th> <td>   525.8</td>\n",
       "</tr>\n",
       "<tr>\n",
       "  <th>Df Residuals:</th>          <td>    41</td>      <th>  BIC:               </th> <td>   533.1</td>\n",
       "</tr>\n",
       "<tr>\n",
       "  <th>Df Model:</th>              <td>     3</td>      <th>                     </th>     <td> </td>   \n",
       "</tr>\n",
       "<tr>\n",
       "  <th>Covariance Type:</th>      <td>nonrobust</td>    <th>                     </th>     <td> </td>   \n",
       "</tr>\n",
       "</table>\n",
       "<table class=\"simpletable\">\n",
       "<tr>\n",
       "          <td></td>            <th>coef</th>     <th>std err</th>      <th>t</th>      <th>P>|t|</th>  <th>[0.025</th>    <th>0.975]</th>  \n",
       "</tr>\n",
       "<tr>\n",
       "  <th>Intercept</th>        <td>  105.2611</td> <td>   38.410</td> <td>    2.740</td> <td> 0.009</td> <td>   27.690</td> <td>  182.832</td>\n",
       "</tr>\n",
       "<tr>\n",
       "  <th>Beds</th>             <td>   17.8354</td> <td>   16.354</td> <td>    1.091</td> <td> 0.282</td> <td>  -15.191</td> <td>   50.862</td>\n",
       "</tr>\n",
       "<tr>\n",
       "  <th>Baths</th>            <td>   79.9010</td> <td>   21.370</td> <td>    3.739</td> <td> 0.001</td> <td>   36.743</td> <td>  123.059</td>\n",
       "</tr>\n",
       "<tr>\n",
       "  <th>Q(\"Square Feet\")</th> <td>    0.0215</td> <td>    0.031</td> <td>    0.697</td> <td> 0.490</td> <td>   -0.041</td> <td>    0.084</td>\n",
       "</tr>\n",
       "</table>\n",
       "<table class=\"simpletable\">\n",
       "<tr>\n",
       "  <th>Omnibus:</th>       <td>24.438</td> <th>  Durbin-Watson:     </th> <td>   1.937</td>\n",
       "</tr>\n",
       "<tr>\n",
       "  <th>Prob(Omnibus):</th> <td> 0.000</td> <th>  Jarque-Bera (JB):  </th> <td>  46.854</td>\n",
       "</tr>\n",
       "<tr>\n",
       "  <th>Skew:</th>          <td> 1.513</td> <th>  Prob(JB):          </th> <td>6.70e-11</td>\n",
       "</tr>\n",
       "<tr>\n",
       "  <th>Kurtosis:</th>      <td> 6.980</td> <th>  Cond. No.          </th> <td>6.61e+03</td>\n",
       "</tr>\n",
       "</table><br/><br/>Notes:<br/>[1] Standard Errors assume that the covariance matrix of the errors is correctly specified.<br/>[2] The condition number is large, 6.61e+03. This might indicate that there are<br/>strong multicollinearity or other numerical problems."
      ],
      "text/plain": [
       "<class 'statsmodels.iolib.summary.Summary'>\n",
       "\"\"\"\n",
       "                            OLS Regression Results                            \n",
       "==============================================================================\n",
       "Dep. Variable:                  Price   R-squared:                       0.661\n",
       "Model:                            OLS   Adj. R-squared:                  0.636\n",
       "Method:                 Least Squares   F-statistic:                     26.68\n",
       "Date:                Sat, 13 May 2023   Prob (F-statistic):           9.86e-10\n",
       "Time:                        11:39:25   Log-Likelihood:                -258.92\n",
       "No. Observations:                  45   AIC:                             525.8\n",
       "Df Residuals:                      41   BIC:                             533.1\n",
       "Df Model:                           3                                         \n",
       "Covariance Type:            nonrobust                                         \n",
       "====================================================================================\n",
       "                       coef    std err          t      P>|t|      [0.025      0.975]\n",
       "------------------------------------------------------------------------------------\n",
       "Intercept          105.2611     38.410      2.740      0.009      27.690     182.832\n",
       "Beds                17.8354     16.354      1.091      0.282     -15.191      50.862\n",
       "Baths               79.9010     21.370      3.739      0.001      36.743     123.059\n",
       "Q(\"Square Feet\")     0.0215      0.031      0.697      0.490      -0.041       0.084\n",
       "==============================================================================\n",
       "Omnibus:                       24.438   Durbin-Watson:                   1.937\n",
       "Prob(Omnibus):                  0.000   Jarque-Bera (JB):               46.854\n",
       "Skew:                           1.513   Prob(JB):                     6.70e-11\n",
       "Kurtosis:                       6.980   Cond. No.                     6.61e+03\n",
       "==============================================================================\n",
       "\n",
       "Notes:\n",
       "[1] Standard Errors assume that the covariance matrix of the errors is correctly specified.\n",
       "[2] The condition number is large, 6.61e+03. This might indicate that there are\n",
       "strong multicollinearity or other numerical problems.\n",
       "\"\"\""
      ]
     },
     "execution_count": 55,
     "metadata": {},
     "output_type": "execute_result"
    }
   ],
   "source": [
    "model1.summary()"
   ]
  },
  {
   "cell_type": "markdown",
   "id": "abd4c151-97dd-4a6e-879f-c848f423fd87",
   "metadata": {},
   "source": [
    "# 7. Explain how you will use the regression equation to predict home prices given the values of the predictor variables.\n",
    "* The model is fitted to values that were observed in the range of all of the variables.\n",
    "* Outside of the variable ranges observed, the model is not tested.\n",
    "* Using values outside of the ranges of observed variables can be unreliable because there is no way to be sure the predicted values are reasonable."
   ]
  },
  {
   "cell_type": "code",
   "execution_count": null,
   "id": "642cafdc-d0fc-49ec-bc7e-6840e99e6db6",
   "metadata": {},
   "outputs": [],
   "source": []
  }
 ],
 "metadata": {
  "kernelspec": {
   "display_name": "Python [conda env:DS_FEB2023_3_10_9] *",
   "language": "python",
   "name": "conda-env-DS_FEB2023_3_10_9-py"
  },
  "language_info": {
   "codemirror_mode": {
    "name": "ipython",
    "version": 3
   },
   "file_extension": ".py",
   "mimetype": "text/x-python",
   "name": "python",
   "nbconvert_exporter": "python",
   "pygments_lexer": "ipython3",
   "version": "3.10.9"
  }
 },
 "nbformat": 4,
 "nbformat_minor": 5
}
