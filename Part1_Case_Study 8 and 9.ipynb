{
 "cells": [
  {
   "cell_type": "markdown",
   "id": "41936ac4",
   "metadata": {},
   "source": [
    "# Purpose\n",
    "* Combined Case Study 8 & 9's data.\n",
    "* Compare Linear Regression, Support Vector Machine Regressor, and Random Forest Regressor.\n",
    "* Create a distribution of goodness-of-fit metrics for each model where the data is randomly sampled for the training set and testing set.\n",
    "---\n",
    "### Brandon Johnson"
   ]
  },
  {
   "cell_type": "code",
   "execution_count": 1,
   "id": "c1c21148",
   "metadata": {},
   "outputs": [],
   "source": [
    "import numpy as np\n",
    "import pandas as pd\n",
    "import matplotlib.pyplot as plt\n",
    "import seaborn as sns\n",
    "import scipy as sp\n",
    "import statsmodels.api as sm\n",
    "import statsmodels.formula.api as smf\n",
    "from stargazer.stargazer import Stargazer\n",
    "from mistat import stepwise_regression\n",
    "import pingouin as pg\n",
    "\n",
    "from sklearn.svm import SVR\n",
    "from sklearn.ensemble import RandomForestRegressor\n",
    "from sklearn.linear_model import LinearRegression\n",
    "from sklearn.model_selection import train_test_split, RandomizedSearchCV\n",
    "from sklearn.metrics import r2_score, mean_squared_error\n",
    "\n",
    "# from explainerdashboard import RegressionExplainer"
   ]
  },
  {
   "cell_type": "code",
   "execution_count": 2,
   "id": "88b2cae5",
   "metadata": {},
   "outputs": [],
   "source": [
    "%load_ext watermark"
   ]
  },
  {
   "cell_type": "code",
   "execution_count": 3,
   "id": "3a9cb4b6",
   "metadata": {},
   "outputs": [
    {
     "name": "stdout",
     "output_type": "stream",
     "text": [
      "numpy      : 1.24.3\n",
      "statsmodels: 0.14.0\n",
      "scipy      : 1.10.1\n",
      "matplotlib : 3.7.1\n",
      "pingouin   : 0.5.3\n",
      "seaborn    : 0.12.2\n",
      "pandas     : 1.5.3\n",
      "\n"
     ]
    }
   ],
   "source": [
    "%watermark -iv"
   ]
  },
  {
   "cell_type": "markdown",
   "id": "7f25aee1",
   "metadata": {},
   "source": [
    "# Data"
   ]
  },
  {
   "cell_type": "code",
   "execution_count": 4,
   "id": "c29b8d75",
   "metadata": {},
   "outputs": [
    {
     "data": {
      "text/html": [
       "<div>\n",
       "<style scoped>\n",
       "    .dataframe tbody tr th:only-of-type {\n",
       "        vertical-align: middle;\n",
       "    }\n",
       "\n",
       "    .dataframe tbody tr th {\n",
       "        vertical-align: top;\n",
       "    }\n",
       "\n",
       "    .dataframe thead th {\n",
       "        text-align: right;\n",
       "    }\n",
       "</style>\n",
       "<table border=\"1\" class=\"dataframe\">\n",
       "  <thead>\n",
       "    <tr style=\"text-align: right;\">\n",
       "      <th></th>\n",
       "      <th>Price</th>\n",
       "      <th>Beds</th>\n",
       "      <th>Baths</th>\n",
       "      <th>SqFt</th>\n",
       "    </tr>\n",
       "  </thead>\n",
       "  <tbody>\n",
       "    <tr>\n",
       "      <th>0</th>\n",
       "      <td>330.0</td>\n",
       "      <td>3</td>\n",
       "      <td>2.0</td>\n",
       "      <td>1771</td>\n",
       "    </tr>\n",
       "    <tr>\n",
       "      <th>1</th>\n",
       "      <td>400.0</td>\n",
       "      <td>3</td>\n",
       "      <td>2.0</td>\n",
       "      <td>1213</td>\n",
       "    </tr>\n",
       "    <tr>\n",
       "      <th>2</th>\n",
       "      <td>416.0</td>\n",
       "      <td>3</td>\n",
       "      <td>2.5</td>\n",
       "      <td>1884</td>\n",
       "    </tr>\n",
       "    <tr>\n",
       "      <th>3</th>\n",
       "      <td>420.0</td>\n",
       "      <td>3</td>\n",
       "      <td>2.0</td>\n",
       "      <td>1922</td>\n",
       "    </tr>\n",
       "    <tr>\n",
       "      <th>4</th>\n",
       "      <td>496.0</td>\n",
       "      <td>4</td>\n",
       "      <td>2.5</td>\n",
       "      <td>1858</td>\n",
       "    </tr>\n",
       "  </tbody>\n",
       "</table>\n",
       "</div>"
      ],
      "text/plain": [
       "   Price  Beds  Baths  SqFt\n",
       "0  330.0     3    2.0  1771\n",
       "1  400.0     3    2.0  1213\n",
       "2  416.0     3    2.5  1884\n",
       "3  420.0     3    2.0  1922\n",
       "4  496.0     4    2.5  1858"
      ]
     },
     "execution_count": 4,
     "metadata": {},
     "output_type": "execute_result"
    }
   ],
   "source": [
    "df1 = pd.read_csv('Part1_Case Study _8.csv').rename(columns={'Square Feet':'SqFt'})\n",
    "df1.head()"
   ]
  },
  {
   "cell_type": "code",
   "execution_count": 5,
   "id": "f98adec4",
   "metadata": {},
   "outputs": [
    {
     "name": "stdout",
     "output_type": "stream",
     "text": [
      "<class 'pandas.core.frame.DataFrame'>\n",
      "RangeIndex: 45 entries, 0 to 44\n",
      "Data columns (total 4 columns):\n",
      " #   Column  Non-Null Count  Dtype  \n",
      "---  ------  --------------  -----  \n",
      " 0   Price   45 non-null     float64\n",
      " 1   Beds    45 non-null     int64  \n",
      " 2   Baths   45 non-null     float64\n",
      " 3   SqFt    45 non-null     int64  \n",
      "dtypes: float64(2), int64(2)\n",
      "memory usage: 1.5 KB\n"
     ]
    }
   ],
   "source": [
    "df1.info()"
   ]
  },
  {
   "cell_type": "code",
   "execution_count": 6,
   "id": "860b2726",
   "metadata": {},
   "outputs": [
    {
     "data": {
      "text/html": [
       "<div>\n",
       "<style scoped>\n",
       "    .dataframe tbody tr th:only-of-type {\n",
       "        vertical-align: middle;\n",
       "    }\n",
       "\n",
       "    .dataframe tbody tr th {\n",
       "        vertical-align: top;\n",
       "    }\n",
       "\n",
       "    .dataframe thead th {\n",
       "        text-align: right;\n",
       "    }\n",
       "</style>\n",
       "<table border=\"1\" class=\"dataframe\">\n",
       "  <thead>\n",
       "    <tr style=\"text-align: right;\">\n",
       "      <th></th>\n",
       "      <th>Price</th>\n",
       "      <th>Acres</th>\n",
       "      <th>YrOld</th>\n",
       "      <th>DoM</th>\n",
       "    </tr>\n",
       "  </thead>\n",
       "  <tbody>\n",
       "    <tr>\n",
       "      <th>0</th>\n",
       "      <td>330.0</td>\n",
       "      <td>0.23</td>\n",
       "      <td>4</td>\n",
       "      <td>127</td>\n",
       "    </tr>\n",
       "    <tr>\n",
       "      <th>1</th>\n",
       "      <td>400.0</td>\n",
       "      <td>0.17</td>\n",
       "      <td>5</td>\n",
       "      <td>98</td>\n",
       "    </tr>\n",
       "    <tr>\n",
       "      <th>2</th>\n",
       "      <td>416.0</td>\n",
       "      <td>0.18</td>\n",
       "      <td>16</td>\n",
       "      <td>105</td>\n",
       "    </tr>\n",
       "    <tr>\n",
       "      <th>3</th>\n",
       "      <td>420.0</td>\n",
       "      <td>0.29</td>\n",
       "      <td>80</td>\n",
       "      <td>103</td>\n",
       "    </tr>\n",
       "    <tr>\n",
       "      <th>4</th>\n",
       "      <td>496.0</td>\n",
       "      <td>0.52</td>\n",
       "      <td>9</td>\n",
       "      <td>39</td>\n",
       "    </tr>\n",
       "  </tbody>\n",
       "</table>\n",
       "</div>"
      ],
      "text/plain": [
       "   Price  Acres  YrOld  DoM\n",
       "0  330.0   0.23      4  127\n",
       "1  400.0   0.17      5   98\n",
       "2  416.0   0.18     16  105\n",
       "3  420.0   0.29     80  103\n",
       "4  496.0   0.52      9   39"
      ]
     },
     "execution_count": 6,
     "metadata": {},
     "output_type": "execute_result"
    }
   ],
   "source": [
    "df2 = pd.read_csv('Part1_Case Study _9.csv').rename(columns={'Years Old':'YrOld'})\n",
    "df2.head()"
   ]
  },
  {
   "cell_type": "code",
   "execution_count": 7,
   "id": "c39f6541",
   "metadata": {},
   "outputs": [
    {
     "name": "stdout",
     "output_type": "stream",
     "text": [
      "<class 'pandas.core.frame.DataFrame'>\n",
      "RangeIndex: 45 entries, 0 to 44\n",
      "Data columns (total 4 columns):\n",
      " #   Column  Non-Null Count  Dtype  \n",
      "---  ------  --------------  -----  \n",
      " 0   Price   45 non-null     float64\n",
      " 1   Acres   45 non-null     float64\n",
      " 2   YrOld   45 non-null     int64  \n",
      " 3   DoM     45 non-null     int64  \n",
      "dtypes: float64(2), int64(2)\n",
      "memory usage: 1.5 KB\n"
     ]
    }
   ],
   "source": [
    "df2.info()"
   ]
  },
  {
   "cell_type": "code",
   "execution_count": 8,
   "id": "b5e23b41",
   "metadata": {},
   "outputs": [
    {
     "data": {
      "text/html": [
       "<div>\n",
       "<style scoped>\n",
       "    .dataframe tbody tr th:only-of-type {\n",
       "        vertical-align: middle;\n",
       "    }\n",
       "\n",
       "    .dataframe tbody tr th {\n",
       "        vertical-align: top;\n",
       "    }\n",
       "\n",
       "    .dataframe thead th {\n",
       "        text-align: right;\n",
       "    }\n",
       "</style>\n",
       "<table border=\"1\" class=\"dataframe\">\n",
       "  <thead>\n",
       "    <tr style=\"text-align: right;\">\n",
       "      <th></th>\n",
       "      <th>Price</th>\n",
       "      <th>Beds</th>\n",
       "      <th>Baths</th>\n",
       "      <th>SqFt</th>\n",
       "      <th>Acres</th>\n",
       "      <th>YrOld</th>\n",
       "      <th>DoM</th>\n",
       "    </tr>\n",
       "  </thead>\n",
       "  <tbody>\n",
       "    <tr>\n",
       "      <th>0</th>\n",
       "      <td>330.0</td>\n",
       "      <td>3</td>\n",
       "      <td>2.0</td>\n",
       "      <td>1771</td>\n",
       "      <td>0.23</td>\n",
       "      <td>4</td>\n",
       "      <td>127</td>\n",
       "    </tr>\n",
       "    <tr>\n",
       "      <th>1</th>\n",
       "      <td>400.0</td>\n",
       "      <td>3</td>\n",
       "      <td>2.0</td>\n",
       "      <td>1213</td>\n",
       "      <td>0.17</td>\n",
       "      <td>5</td>\n",
       "      <td>98</td>\n",
       "    </tr>\n",
       "    <tr>\n",
       "      <th>2</th>\n",
       "      <td>416.0</td>\n",
       "      <td>3</td>\n",
       "      <td>2.5</td>\n",
       "      <td>1884</td>\n",
       "      <td>0.18</td>\n",
       "      <td>16</td>\n",
       "      <td>105</td>\n",
       "    </tr>\n",
       "    <tr>\n",
       "      <th>3</th>\n",
       "      <td>420.0</td>\n",
       "      <td>3</td>\n",
       "      <td>2.0</td>\n",
       "      <td>1922</td>\n",
       "      <td>0.29</td>\n",
       "      <td>80</td>\n",
       "      <td>103</td>\n",
       "    </tr>\n",
       "    <tr>\n",
       "      <th>4</th>\n",
       "      <td>496.0</td>\n",
       "      <td>4</td>\n",
       "      <td>2.5</td>\n",
       "      <td>1858</td>\n",
       "      <td>0.52</td>\n",
       "      <td>9</td>\n",
       "      <td>39</td>\n",
       "    </tr>\n",
       "  </tbody>\n",
       "</table>\n",
       "</div>"
      ],
      "text/plain": [
       "   Price  Beds  Baths  SqFt  Acres  YrOld  DoM\n",
       "0  330.0     3    2.0  1771   0.23      4  127\n",
       "1  400.0     3    2.0  1213   0.17      5   98\n",
       "2  416.0     3    2.5  1884   0.18     16  105\n",
       "3  420.0     3    2.0  1922   0.29     80  103\n",
       "4  496.0     4    2.5  1858   0.52      9   39"
      ]
     },
     "execution_count": 8,
     "metadata": {},
     "output_type": "execute_result"
    }
   ],
   "source": [
    "df3 = pd.concat([df1,df2.drop('Price',axis=1)],axis=1,join='inner',)\n",
    "df3.head()"
   ]
  },
  {
   "cell_type": "code",
   "execution_count": 9,
   "id": "0203cdf1",
   "metadata": {},
   "outputs": [
    {
     "name": "stdout",
     "output_type": "stream",
     "text": [
      "<class 'pandas.core.frame.DataFrame'>\n",
      "RangeIndex: 45 entries, 0 to 44\n",
      "Data columns (total 7 columns):\n",
      " #   Column  Non-Null Count  Dtype  \n",
      "---  ------  --------------  -----  \n",
      " 0   Price   45 non-null     float64\n",
      " 1   Beds    45 non-null     int64  \n",
      " 2   Baths   45 non-null     float64\n",
      " 3   SqFt    45 non-null     int64  \n",
      " 4   Acres   45 non-null     float64\n",
      " 5   YrOld   45 non-null     int64  \n",
      " 6   DoM     45 non-null     int64  \n",
      "dtypes: float64(3), int64(4)\n",
      "memory usage: 2.6 KB\n"
     ]
    }
   ],
   "source": [
    "df3.info()"
   ]
  },
  {
   "cell_type": "markdown",
   "id": "cb0338f1",
   "metadata": {},
   "source": [
    "# Linear Regression (All Variables)"
   ]
  },
  {
   "cell_type": "code",
   "execution_count": 10,
   "id": "cf08eac9",
   "metadata": {},
   "outputs": [
    {
     "name": "stdout",
     "output_type": "stream",
     "text": [
      "Index(['Beds', 'Baths', 'SqFt', 'Acres', 'YrOld', 'DoM'], dtype='object')\n",
      "Step 1 add - (F: 76.52)  Baths\n",
      "Step 2 add - (F: 4.31)  Acres Baths\n"
     ]
    },
    {
     "data": {
      "text/plain": [
       "({'Acres', 'Baths'},\n",
       " <statsmodels.regression.linear_model.RegressionResultsWrapper at 0x2a94c645cd0>)"
      ]
     },
     "execution_count": 10,
     "metadata": {},
     "output_type": "execute_result"
    }
   ],
   "source": [
    "X = df3.drop('Price',axis=1).columns\n",
    "print(X)\n",
    "y = 'Price'\n",
    "\n",
    "stepwise_regression(outcome=y, all_vars=X, data=df3)"
   ]
  },
  {
   "cell_type": "code",
   "execution_count": 11,
   "id": "1889dd82",
   "metadata": {},
   "outputs": [
    {
     "data": {
      "text/html": [
       "<table class=\"simpletable\">\n",
       "<caption>OLS Regression Results</caption>\n",
       "<tr>\n",
       "  <th>Dep. Variable:</th>          <td>Price</td>      <th>  R-squared:         </th> <td>   0.815</td>\n",
       "</tr>\n",
       "<tr>\n",
       "  <th>Model:</th>                   <td>OLS</td>       <th>  Adj. R-squared:    </th> <td>   0.774</td>\n",
       "</tr>\n",
       "<tr>\n",
       "  <th>Method:</th>             <td>Least Squares</td>  <th>  F-statistic:       </th> <td>   19.84</td>\n",
       "</tr>\n",
       "<tr>\n",
       "  <th>Date:</th>             <td>Fri, 28 Jul 2023</td> <th>  Prob (F-statistic):</th> <td>4.76e-11</td>\n",
       "</tr>\n",
       "<tr>\n",
       "  <th>Time:</th>                 <td>14:37:54</td>     <th>  Log-Likelihood:    </th> <td> -245.30</td>\n",
       "</tr>\n",
       "<tr>\n",
       "  <th>No. Observations:</th>      <td>    45</td>      <th>  AIC:               </th> <td>   508.6</td>\n",
       "</tr>\n",
       "<tr>\n",
       "  <th>Df Residuals:</th>          <td>    36</td>      <th>  BIC:               </th> <td>   524.9</td>\n",
       "</tr>\n",
       "<tr>\n",
       "  <th>Df Model:</th>              <td>     8</td>      <th>                     </th>     <td> </td>   \n",
       "</tr>\n",
       "<tr>\n",
       "  <th>Covariance Type:</th>      <td>nonrobust</td>    <th>                     </th>     <td> </td>   \n",
       "</tr>\n",
       "</table>\n",
       "<table class=\"simpletable\">\n",
       "<tr>\n",
       "       <td></td>          <th>coef</th>     <th>std err</th>      <th>t</th>      <th>P>|t|</th>  <th>[0.025</th>    <th>0.975]</th>  \n",
       "</tr>\n",
       "<tr>\n",
       "  <th>Intercept</th>   <td>  196.2379</td> <td>   46.416</td> <td>    4.228</td> <td> 0.000</td> <td>  102.102</td> <td>  290.374</td>\n",
       "</tr>\n",
       "<tr>\n",
       "  <th>Baths</th>       <td>   93.1781</td> <td>   18.582</td> <td>    5.015</td> <td> 0.000</td> <td>   55.493</td> <td>  130.863</td>\n",
       "</tr>\n",
       "<tr>\n",
       "  <th>Acres</th>       <td>  -29.4038</td> <td>   10.523</td> <td>   -2.794</td> <td> 0.008</td> <td>  -50.746</td> <td>   -8.062</td>\n",
       "</tr>\n",
       "<tr>\n",
       "  <th>Baths:Acres</th> <td>   -6.8293</td> <td>   10.151</td> <td>   -0.673</td> <td> 0.505</td> <td>  -27.416</td> <td>   13.757</td>\n",
       "</tr>\n",
       "<tr>\n",
       "  <th>SqFt</th>        <td>   -0.0028</td> <td>    0.029</td> <td>   -0.098</td> <td> 0.923</td> <td>   -0.061</td> <td>    0.056</td>\n",
       "</tr>\n",
       "<tr>\n",
       "  <th>SqFt:Acres</th>  <td>    0.0298</td> <td>    0.016</td> <td>    1.817</td> <td> 0.078</td> <td>   -0.003</td> <td>    0.063</td>\n",
       "</tr>\n",
       "<tr>\n",
       "  <th>YrOld</th>       <td>   -1.8918</td> <td>    1.170</td> <td>   -1.618</td> <td> 0.114</td> <td>   -4.264</td> <td>    0.480</td>\n",
       "</tr>\n",
       "<tr>\n",
       "  <th>DoM</th>         <td>   -0.1664</td> <td>    0.224</td> <td>   -0.743</td> <td> 0.462</td> <td>   -0.621</td> <td>    0.288</td>\n",
       "</tr>\n",
       "<tr>\n",
       "  <th>YrOld:DoM</th>   <td>    0.0110</td> <td>    0.010</td> <td>    1.145</td> <td> 0.260</td> <td>   -0.009</td> <td>    0.031</td>\n",
       "</tr>\n",
       "</table>\n",
       "<table class=\"simpletable\">\n",
       "<tr>\n",
       "  <th>Omnibus:</th>       <td> 1.629</td> <th>  Durbin-Watson:     </th> <td>   2.122</td>\n",
       "</tr>\n",
       "<tr>\n",
       "  <th>Prob(Omnibus):</th> <td> 0.443</td> <th>  Jarque-Bera (JB):  </th> <td>   1.247</td>\n",
       "</tr>\n",
       "<tr>\n",
       "  <th>Skew:</th>          <td> 0.184</td> <th>  Prob(JB):          </th> <td>   0.536</td>\n",
       "</tr>\n",
       "<tr>\n",
       "  <th>Kurtosis:</th>      <td> 2.272</td> <th>  Cond. No.          </th> <td>5.18e+04</td>\n",
       "</tr>\n",
       "</table><br/><br/>Notes:<br/>[1] Standard Errors assume that the covariance matrix of the errors is correctly specified.<br/>[2] The condition number is large, 5.18e+04. This might indicate that there are<br/>strong multicollinearity or other numerical problems."
      ],
      "text/latex": [
       "\\begin{center}\n",
       "\\begin{tabular}{lclc}\n",
       "\\toprule\n",
       "\\textbf{Dep. Variable:}    &      Price       & \\textbf{  R-squared:         } &     0.815   \\\\\n",
       "\\textbf{Model:}            &       OLS        & \\textbf{  Adj. R-squared:    } &     0.774   \\\\\n",
       "\\textbf{Method:}           &  Least Squares   & \\textbf{  F-statistic:       } &     19.84   \\\\\n",
       "\\textbf{Date:}             & Fri, 28 Jul 2023 & \\textbf{  Prob (F-statistic):} &  4.76e-11   \\\\\n",
       "\\textbf{Time:}             &     14:37:54     & \\textbf{  Log-Likelihood:    } &   -245.30   \\\\\n",
       "\\textbf{No. Observations:} &          45      & \\textbf{  AIC:               } &     508.6   \\\\\n",
       "\\textbf{Df Residuals:}     &          36      & \\textbf{  BIC:               } &     524.9   \\\\\n",
       "\\textbf{Df Model:}         &           8      & \\textbf{                     } &             \\\\\n",
       "\\textbf{Covariance Type:}  &    nonrobust     & \\textbf{                     } &             \\\\\n",
       "\\bottomrule\n",
       "\\end{tabular}\n",
       "\\begin{tabular}{lcccccc}\n",
       "                     & \\textbf{coef} & \\textbf{std err} & \\textbf{t} & \\textbf{P$> |$t$|$} & \\textbf{[0.025} & \\textbf{0.975]}  \\\\\n",
       "\\midrule\n",
       "\\textbf{Intercept}   &     196.2379  &       46.416     &     4.228  &         0.000        &      102.102    &      290.374     \\\\\n",
       "\\textbf{Baths}       &      93.1781  &       18.582     &     5.015  &         0.000        &       55.493    &      130.863     \\\\\n",
       "\\textbf{Acres}       &     -29.4038  &       10.523     &    -2.794  &         0.008        &      -50.746    &       -8.062     \\\\\n",
       "\\textbf{Baths:Acres} &      -6.8293  &       10.151     &    -0.673  &         0.505        &      -27.416    &       13.757     \\\\\n",
       "\\textbf{SqFt}        &      -0.0028  &        0.029     &    -0.098  &         0.923        &       -0.061    &        0.056     \\\\\n",
       "\\textbf{SqFt:Acres}  &       0.0298  &        0.016     &     1.817  &         0.078        &       -0.003    &        0.063     \\\\\n",
       "\\textbf{YrOld}       &      -1.8918  &        1.170     &    -1.618  &         0.114        &       -4.264    &        0.480     \\\\\n",
       "\\textbf{DoM}         &      -0.1664  &        0.224     &    -0.743  &         0.462        &       -0.621    &        0.288     \\\\\n",
       "\\textbf{YrOld:DoM}   &       0.0110  &        0.010     &     1.145  &         0.260        &       -0.009    &        0.031     \\\\\n",
       "\\bottomrule\n",
       "\\end{tabular}\n",
       "\\begin{tabular}{lclc}\n",
       "\\textbf{Omnibus:}       &  1.629 & \\textbf{  Durbin-Watson:     } &    2.122  \\\\\n",
       "\\textbf{Prob(Omnibus):} &  0.443 & \\textbf{  Jarque-Bera (JB):  } &    1.247  \\\\\n",
       "\\textbf{Skew:}          &  0.184 & \\textbf{  Prob(JB):          } &    0.536  \\\\\n",
       "\\textbf{Kurtosis:}      &  2.272 & \\textbf{  Cond. No.          } & 5.18e+04  \\\\\n",
       "\\bottomrule\n",
       "\\end{tabular}\n",
       "%\\caption{OLS Regression Results}\n",
       "\\end{center}\n",
       "\n",
       "Notes: \\newline\n",
       " [1] Standard Errors assume that the covariance matrix of the errors is correctly specified. \\newline\n",
       " [2] The condition number is large, 5.18e+04. This might indicate that there are \\newline\n",
       " strong multicollinearity or other numerical problems."
      ],
      "text/plain": [
       "<class 'statsmodels.iolib.summary.Summary'>\n",
       "\"\"\"\n",
       "                            OLS Regression Results                            \n",
       "==============================================================================\n",
       "Dep. Variable:                  Price   R-squared:                       0.815\n",
       "Model:                            OLS   Adj. R-squared:                  0.774\n",
       "Method:                 Least Squares   F-statistic:                     19.84\n",
       "Date:                Fri, 28 Jul 2023   Prob (F-statistic):           4.76e-11\n",
       "Time:                        14:37:54   Log-Likelihood:                -245.30\n",
       "No. Observations:                  45   AIC:                             508.6\n",
       "Df Residuals:                      36   BIC:                             524.9\n",
       "Df Model:                           8                                         \n",
       "Covariance Type:            nonrobust                                         \n",
       "===============================================================================\n",
       "                  coef    std err          t      P>|t|      [0.025      0.975]\n",
       "-------------------------------------------------------------------------------\n",
       "Intercept     196.2379     46.416      4.228      0.000     102.102     290.374\n",
       "Baths          93.1781     18.582      5.015      0.000      55.493     130.863\n",
       "Acres         -29.4038     10.523     -2.794      0.008     -50.746      -8.062\n",
       "Baths:Acres    -6.8293     10.151     -0.673      0.505     -27.416      13.757\n",
       "SqFt           -0.0028      0.029     -0.098      0.923      -0.061       0.056\n",
       "SqFt:Acres      0.0298      0.016      1.817      0.078      -0.003       0.063\n",
       "YrOld          -1.8918      1.170     -1.618      0.114      -4.264       0.480\n",
       "DoM            -0.1664      0.224     -0.743      0.462      -0.621       0.288\n",
       "YrOld:DoM       0.0110      0.010      1.145      0.260      -0.009       0.031\n",
       "==============================================================================\n",
       "Omnibus:                        1.629   Durbin-Watson:                   2.122\n",
       "Prob(Omnibus):                  0.443   Jarque-Bera (JB):                1.247\n",
       "Skew:                           0.184   Prob(JB):                        0.536\n",
       "Kurtosis:                       2.272   Cond. No.                     5.18e+04\n",
       "==============================================================================\n",
       "\n",
       "Notes:\n",
       "[1] Standard Errors assume that the covariance matrix of the errors is correctly specified.\n",
       "[2] The condition number is large, 5.18e+04. This might indicate that there are\n",
       "strong multicollinearity or other numerical problems.\n",
       "\"\"\""
      ]
     },
     "execution_count": 11,
     "metadata": {},
     "output_type": "execute_result"
    }
   ],
   "source": [
    "fm1 = 'Price ~ Baths*Acres + SqFt*Acres + YrOld*DoM'\n",
    "reg1 = smf.ols(formula=fm1,data=df3).fit()\n",
    "reg1.summary()"
   ]
  },
  {
   "cell_type": "code",
   "execution_count": 12,
   "id": "7f4b035c",
   "metadata": {},
   "outputs": [],
   "source": [
    "def residual_analysis(model,y):\n",
    "    fig, ax = plt.subplots(1,3,dpi=150,figsize=(14,4))\n",
    "    ax[0].scatter(model.fittedvalues,model.resid,label='$\\hat{y}$',alpha=.75)\n",
    "    ax[0].scatter(y,model.resid,label='y',alpha=.25)\n",
    "    ax[0].axhline(0,ls='--',c='k')\n",
    "    ax[0].set_ylabel('Residuals')\n",
    "    ax[0].set_xlabel('y or $\\hat{y}$')\n",
    "    ax[0].legend()\n",
    "    ax[1].hist(model.resid,edgecolor='w')\n",
    "    pg.qqplot(x=model.resid,dist='norm',confidence=0.95, ax=ax[2])\n",
    "    ax[0].set_title('Response VS Residuals')\n",
    "    ax[1].set_title('Residual Histogram')\n",
    "    ax[2].set_title('Residual QQ')"
   ]
  },
  {
   "cell_type": "code",
   "execution_count": 13,
   "id": "4e1bd616",
   "metadata": {},
   "outputs": [
    {
     "data": {
      "image/png": "[encoded data removed]",
      "text/plain": [
       "<Figure size 2100x600 with 3 Axes>"
      ]
     },
     "metadata": {},
     "output_type": "display_data"
    }
   ],
   "source": [
    "residual_analysis(reg1,y=df3.Price)"
   ]
  },
  {
   "cell_type": "code",
   "execution_count": 14,
   "id": "6cdf84f3",
   "metadata": {},
   "outputs": [
    {
     "data": {
      "text/html": [
       "<table style=\"text-align:center\"><tr><td colspan=\"2\" style=\"border-bottom: 1px solid black\"></td></tr><tr><td style=\"text-align:left\"></td><td colspan=\"1\"><em>Dependent variable:Price</em></td></tr><tr><td style=\"text-align:left\"></td><tr><td></td><td colspan=\"1\">Model 1</td></tr><tr><td colspan=\"2\" style=\"border-bottom: 1px solid black\"></td></tr><tr><td style=\"text-align:left\">Acres</td><td>-29.404<sup>***</sup></td></tr><tr><td style=\"text-align:left\"></td><td>(10.523)</td></tr><tr><td style=\"text-align:left\">Baths</td><td>93.178<sup>***</sup></td></tr><tr><td style=\"text-align:left\"></td><td>(18.582)</td></tr><tr><td style=\"text-align:left\">Baths:Acres</td><td>-6.829<sup></sup></td></tr><tr><td style=\"text-align:left\"></td><td>(10.151)</td></tr><tr><td style=\"text-align:left\">DoM</td><td>-0.166<sup></sup></td></tr><tr><td style=\"text-align:left\"></td><td>(0.224)</td></tr><tr><td style=\"text-align:left\">Intercept</td><td>196.238<sup>***</sup></td></tr><tr><td style=\"text-align:left\"></td><td>(46.416)</td></tr><tr><td style=\"text-align:left\">SqFt</td><td>-0.003<sup></sup></td></tr><tr><td style=\"text-align:left\"></td><td>(0.029)</td></tr><tr><td style=\"text-align:left\">SqFt:Acres</td><td>0.030<sup>*</sup></td></tr><tr><td style=\"text-align:left\"></td><td>(0.016)</td></tr><tr><td style=\"text-align:left\">YrOld</td><td>-1.892<sup></sup></td></tr><tr><td style=\"text-align:left\"></td><td>(1.170)</td></tr><tr><td style=\"text-align:left\">YrOld:DoM</td><td>0.011<sup></sup></td></tr><tr><td style=\"text-align:left\"></td><td>(0.010)</td></tr><td colspan=\"2\" style=\"border-bottom: 1px solid black\"></td></tr><tr><td style=\"text-align: left\">Observations</td><td>45</td></tr><tr><td style=\"text-align: left\">R<sup>2</sup></td><td>0.815</td></tr><tr><td style=\"text-align: left\">Adjusted R<sup>2</sup></td><td>0.774</td></tr><tr><td style=\"text-align: left\">Residual Std. Error</td><td>63.033</td></tr><tr><td style=\"text-align: left\">F Statistic</td><td>19.840<sup>***</sup></td></tr><tr><td colspan=\"2\" style=\"border-bottom: 1px solid black\"></td></tr><tr><td style=\"text-align: left\">Note:</td>\n",
       " <td colspan=\"1\" style=\"text-align: right\">\n",
       "  <sup>*</sup>p&lt;0.1;\n",
       "  <sup>**</sup>p&lt;0.05;\n",
       "  <sup>***</sup>p&lt;0.01\n",
       " </td></tr></table>"
      ],
      "text/plain": [
       "<stargazer.stargazer.Stargazer at 0x2a94d865a90>"
      ]
     },
     "execution_count": 14,
     "metadata": {},
     "output_type": "execute_result"
    }
   ],
   "source": [
    "results = Stargazer([reg1])\n",
    "results.show_degrees_of_freedom(False)\n",
    "results.show_model_numbers(False)\n",
    "results.custom_columns(['Model 1'],[1])\n",
    "results"
   ]
  },
  {
   "cell_type": "markdown",
   "id": "98bad6f3",
   "metadata": {},
   "source": [
    "# Model Comparison using Training and Testing Splits"
   ]
  },
  {
   "cell_type": "markdown",
   "id": "67e3d4a2",
   "metadata": {},
   "source": [
    "## Data Split"
   ]
  },
  {
   "cell_type": "code",
   "execution_count": 15,
   "id": "11d96bba",
   "metadata": {},
   "outputs": [
    {
     "data": {
      "text/plain": [
       "((42, 6), (3, 6))"
      ]
     },
     "execution_count": 15,
     "metadata": {},
     "output_type": "execute_result"
    }
   ],
   "source": [
    "seed = 120\n",
    "\n",
    "X = df3.drop('Price',axis=1)\n",
    "y = df3.Price\n",
    "\n",
    "X_train, X_test, y_train, y_test = train_test_split(X,y,random_state=seed,test_size=0.05)\n",
    "\n",
    "X_train.shape,X_test.shape"
   ]
  },
  {
   "cell_type": "code",
   "execution_count": 16,
   "id": "8da10420",
   "metadata": {},
   "outputs": [],
   "source": [
    "def score(y_true,y_pred):\n",
    "    r2 = r2_score(y_true=y_true,y_pred=y_pred)\n",
    "    rmse = mean_squared_error(y_true=y_true,y_pred=y_pred,squared=False)\n",
    "    print(f'R2: {r2:.4f}')\n",
    "    print(f'RMSE: {rmse:.4f}')\n",
    "    return r2,rmse"
   ]
  },
  {
   "cell_type": "markdown",
   "id": "2db7b604",
   "metadata": {},
   "source": [
    "## SVM Regression"
   ]
  },
  {
   "cell_type": "code",
   "execution_count": 17,
   "id": "525447b1",
   "metadata": {},
   "outputs": [
    {
     "name": "stdout",
     "output_type": "stream",
     "text": [
      "Neg RMSE: -100.38267695555459\n",
      "Best Params: {'C': 0.0016569899138846821, 'epsilon': 1.764087565582041, 'kernel': 'linear'}\n",
      "CPU times: total: 5.66 s\n",
      "Wall time: 26.9 s\n"
     ]
    }
   ],
   "source": [
    "%%time\n",
    "\n",
    "svr = SVR()\n",
    "\n",
    "params = dict(\n",
    "    kernel=['linear', 'poly', 'rbf'],\n",
    "    C=sp.stats.uniform(.0001,1+.01),\n",
    "    epsilon=sp.stats.uniform(.01,2+0.01),\n",
    ")\n",
    "\n",
    "search = RandomizedSearchCV(estimator=svr,param_distributions=params,n_iter=5000,n_jobs=-1,cv=4,scoring='neg_root_mean_squared_error',random_state=seed)\n",
    "\n",
    "search.fit(X_train,y_train)\n",
    "\n",
    "print(f'Neg RMSE: {search.best_score_}')\n",
    "print(f'Best Params: {search.best_params_}')"
   ]
  },
  {
   "cell_type": "code",
   "execution_count": 18,
   "id": "74940308",
   "metadata": {},
   "outputs": [
    {
     "data": {
      "text/html": [
       "<style>#sk-container-id-1 {color: black;background-color: white;}#sk-container-id-1 pre{padding: 0;}#sk-container-id-1 div.sk-toggleable {background-color: white;}#sk-container-id-1 label.sk-toggleable__label {cursor: pointer;display: block;width: 100%;margin-bottom: 0;padding: 0.3em;box-sizing: border-box;text-align: center;}#sk-container-id-1 label.sk-toggleable__label-arrow:before {content: \"▸\";float: left;margin-right: 0.25em;color: #696969;}#sk-container-id-1 label.sk-toggleable__label-arrow:hover:before {color: black;}#sk-container-id-1 div.sk-estimator:hover label.sk-toggleable__label-arrow:before {color: black;}#sk-container-id-1 div.sk-toggleable__content {max-height: 0;max-width: 0;overflow: hidden;text-align: left;background-color: #f0f8ff;}#sk-container-id-1 div.sk-toggleable__content pre {margin: 0.2em;color: black;border-radius: 0.25em;background-color: #f0f8ff;}#sk-container-id-1 input.sk-toggleable__control:checked~div.sk-toggleable__content {max-height: 200px;max-width: 100%;overflow: auto;}#sk-container-id-1 input.sk-toggleable__control:checked~label.sk-toggleable__label-arrow:before {content: \"▾\";}#sk-container-id-1 div.sk-estimator input.sk-toggleable__control:checked~label.sk-toggleable__label {background-color: #d4ebff;}#sk-container-id-1 div.sk-label input.sk-toggleable__control:checked~label.sk-toggleable__label {background-color: #d4ebff;}#sk-container-id-1 input.sk-hidden--visually {border: 0;clip: rect(1px 1px 1px 1px);clip: rect(1px, 1px, 1px, 1px);height: 1px;margin: -1px;overflow: hidden;padding: 0;position: absolute;width: 1px;}#sk-container-id-1 div.sk-estimator {font-family: monospace;background-color: #f0f8ff;border: 1px dotted black;border-radius: 0.25em;box-sizing: border-box;margin-bottom: 0.5em;}#sk-container-id-1 div.sk-estimator:hover {background-color: #d4ebff;}#sk-container-id-1 div.sk-parallel-item::after {content: \"\";width: 100%;border-bottom: 1px solid gray;flex-grow: 1;}#sk-container-id-1 div.sk-label:hover label.sk-toggleable__label {background-color: #d4ebff;}#sk-container-id-1 div.sk-serial::before {content: \"\";position: absolute;border-left: 1px solid gray;box-sizing: border-box;top: 0;bottom: 0;left: 50%;z-index: 0;}#sk-container-id-1 div.sk-serial {display: flex;flex-direction: column;align-items: center;background-color: white;padding-right: 0.2em;padding-left: 0.2em;position: relative;}#sk-container-id-1 div.sk-item {position: relative;z-index: 1;}#sk-container-id-1 div.sk-parallel {display: flex;align-items: stretch;justify-content: center;background-color: white;position: relative;}#sk-container-id-1 div.sk-item::before, #sk-container-id-1 div.sk-parallel-item::before {content: \"\";position: absolute;border-left: 1px solid gray;box-sizing: border-box;top: 0;bottom: 0;left: 50%;z-index: -1;}#sk-container-id-1 div.sk-parallel-item {display: flex;flex-direction: column;z-index: 1;position: relative;background-color: white;}#sk-container-id-1 div.sk-parallel-item:first-child::after {align-self: flex-end;width: 50%;}#sk-container-id-1 div.sk-parallel-item:last-child::after {align-self: flex-start;width: 50%;}#sk-container-id-1 div.sk-parallel-item:only-child::after {width: 0;}#sk-container-id-1 div.sk-dashed-wrapped {border: 1px dashed gray;margin: 0 0.4em 0.5em 0.4em;box-sizing: border-box;padding-bottom: 0.4em;background-color: white;}#sk-container-id-1 div.sk-label label {font-family: monospace;font-weight: bold;display: inline-block;line-height: 1.2em;}#sk-container-id-1 div.sk-label-container {text-align: center;}#sk-container-id-1 div.sk-container {/* jupyter's `normalize.less` sets `[hidden] { display: none; }` but bootstrap.min.css set `[hidden] { display: none !important; }` so we also need the `!important` here to be able to override the default hidden behavior on the sphinx rendered scikit-learn.org. See: https://github.com/scikit-learn/scikit-learn/issues/21755 */display: inline-block !important;position: relative;}#sk-container-id-1 div.sk-text-repr-fallback {display: none;}</style><div id=\"sk-container-id-1\" class=\"sk-top-container\"><div class=\"sk-text-repr-fallback\"><pre>SVR(C=0.0016569899138846821, epsilon=1.764087565582041, kernel=&#x27;linear&#x27;)</pre><b>In a Jupyter environment, please rerun this cell to show the HTML representation or trust the notebook. <br />On GitHub, the HTML representation is unable to render, please try loading this page with nbviewer.org.</b></div><div class=\"sk-container\" hidden><div class=\"sk-item\"><div class=\"sk-estimator sk-toggleable\"><input class=\"sk-toggleable__control sk-hidden--visually\" id=\"sk-estimator-id-1\" type=\"checkbox\" checked><label for=\"sk-estimator-id-1\" class=\"sk-toggleable__label sk-toggleable__label-arrow\">SVR</label><div class=\"sk-toggleable__content\"><pre>SVR(C=0.0016569899138846821, epsilon=1.764087565582041, kernel=&#x27;linear&#x27;)</pre></div></div></div></div></div>"
      ],
      "text/plain": [
       "SVR(C=0.0016569899138846821, epsilon=1.764087565582041, kernel='linear')"
      ]
     },
     "execution_count": 18,
     "metadata": {},
     "output_type": "execute_result"
    }
   ],
   "source": [
    "params = {'C': 0.0016569899138846821, 'epsilon': 1.764087565582041, 'kernel': 'linear'}\n",
    "\n",
    "svr = SVR(**params)\n",
    "svr.fit(X_train,y_train)"
   ]
  },
  {
   "cell_type": "code",
   "execution_count": 19,
   "id": "3bbce78a",
   "metadata": {},
   "outputs": [
    {
     "name": "stdout",
     "output_type": "stream",
     "text": [
      "R2: 0.4807\n",
      "RMSE: 93.6968\n"
     ]
    },
    {
     "data": {
      "text/plain": [
       "(0.4807201060066254, 93.69682244418587)"
      ]
     },
     "execution_count": 19,
     "metadata": {},
     "output_type": "execute_result"
    }
   ],
   "source": [
    "y_pred = svr.predict(X_train)\n",
    "score(y_true=y_train, y_pred=y_pred)"
   ]
  },
  {
   "cell_type": "code",
   "execution_count": 20,
   "id": "33ac2394",
   "metadata": {},
   "outputs": [
    {
     "name": "stdout",
     "output_type": "stream",
     "text": [
      "R2: 0.8067\n",
      "RMSE: 42.8313\n"
     ]
    },
    {
     "data": {
      "text/plain": [
       "(0.8066666343421303, 42.83128325467792)"
      ]
     },
     "execution_count": 20,
     "metadata": {},
     "output_type": "execute_result"
    }
   ],
   "source": [
    "y_pred = svr.predict(X_test)\n",
    "score(y_true=y_test, y_pred=y_pred)"
   ]
  },
  {
   "cell_type": "code",
   "execution_count": 21,
   "id": "b2b9900d",
   "metadata": {},
   "outputs": [
    {
     "data": {
      "text/plain": [
       "array([[ 0.02286898,  0.0180922 ,  0.14441182, -0.00292759, -0.21547092,\n",
       "         0.12613568]])"
      ]
     },
     "execution_count": 21,
     "metadata": {},
     "output_type": "execute_result"
    }
   ],
   "source": [
    "svr.coef_"
   ]
  },
  {
   "cell_type": "code",
   "execution_count": 22,
   "id": "54e4e8d1",
   "metadata": {},
   "outputs": [
    {
     "data": {
      "text/plain": [
       "array(['Beds', 'Baths', 'SqFt', 'Acres', 'YrOld', 'DoM'], dtype=object)"
      ]
     },
     "execution_count": 22,
     "metadata": {},
     "output_type": "execute_result"
    }
   ],
   "source": [
    "svr.feature_names_in_"
   ]
  },
  {
   "cell_type": "code",
   "execution_count": 23,
   "id": "30ec3d89",
   "metadata": {},
   "outputs": [
    {
     "data": {
      "image/png": "[encoded data removed]",
      "text/plain": [
       "<Figure size 640x480 with 1 Axes>"
      ]
     },
     "metadata": {},
     "output_type": "display_data"
    }
   ],
   "source": [
    "plt.bar(x=svr.feature_names_in_,height=svr.coef_[0])\n",
    "plt.grid(alpha=.25)"
   ]
  },
  {
   "cell_type": "markdown",
   "id": "216f344d",
   "metadata": {},
   "source": [
    "## Random Forest"
   ]
  },
  {
   "cell_type": "code",
   "execution_count": 34,
   "id": "e5027ded",
   "metadata": {},
   "outputs": [
    {
     "name": "stdout",
     "output_type": "stream",
     "text": [
      "Neg RMSE: -88.78547690578628\n",
      "Best Params: {'max_features': 0.9087570588771727, 'n_estimators': 134}\n",
      "R2: 0.9314\n",
      "RMSE: 34.0586\n",
      "CPU times: total: 22.7 s\n",
      "Wall time: 4min 24s\n"
     ]
    },
    {
     "data": {
      "text/plain": [
       "(0.9313870920792517, 34.05861803327472)"
      ]
     },
     "execution_count": 34,
     "metadata": {},
     "output_type": "execute_result"
    }
   ],
   "source": [
    "%%time\n",
    "rfr = RandomForestRegressor(n_jobs=-1,max_features=.75,random_state=seed,)\n",
    "\n",
    "params = dict(\n",
    "    n_estimators=sp.stats.randint(100,500-100), \n",
    "    max_features=sp.stats.uniform(.5,1-.5)\n",
    ")\n",
    "\n",
    "rand_search = RandomizedSearchCV(estimator=rfr,\n",
    "                                 param_distributions=params,\n",
    "                                 n_iter=2000,\n",
    "                                 n_jobs=-1,\n",
    "                                 cv=4,\n",
    "                                 scoring='neg_root_mean_squared_error',\n",
    "                                 random_state=seed\n",
    "                                )\n",
    "rand_search.fit(X_train,y_train)\n",
    "\n",
    "print(f'Neg RMSE: {rand_search.best_score_}')\n",
    "print(f'Best Params: {rand_search.best_params_}')\n",
    "\n",
    "y_pred = rand_search.predict(X_train)\n",
    "score(y_true=y_train,y_pred=y_pred)"
   ]
  },
  {
   "cell_type": "code",
   "execution_count": 35,
   "id": "19b0f8b7",
   "metadata": {},
   "outputs": [
    {
     "name": "stdout",
     "output_type": "stream",
     "text": [
      "R2: 0.9009\n",
      "RMSE: 30.6574\n"
     ]
    },
    {
     "data": {
      "text/plain": [
       "(0.9009496733101943, 30.657422337302133)"
      ]
     },
     "execution_count": 35,
     "metadata": {},
     "output_type": "execute_result"
    }
   ],
   "source": [
    "y_pred = rand_search.predict(X_test)\n",
    "score(y_true=y_test,y_pred=y_pred)"
   ]
  },
  {
   "cell_type": "code",
   "execution_count": 39,
   "id": "3d8f65f3",
   "metadata": {},
   "outputs": [
    {
     "data": {
      "image/png": "[encoded data removed]",
      "text/plain": [
       "<Figure size 960x720 with 1 Axes>"
      ]
     },
     "metadata": {},
     "output_type": "display_data"
    }
   ],
   "source": [
    "rfr = RandomForestRegressor(**rand_search.best_params_, n_jobs=-1, random_state=seed)\n",
    "rfr.fit(X_train,y_train)\n",
    "\n",
    "plt.figure(dpi=150)\n",
    "plt.bar(x=X_train.columns,height=rfr.feature_importances_)\n",
    "plt.show()"
   ]
  },
  {
   "cell_type": "markdown",
   "id": "fc878ba9",
   "metadata": {},
   "source": [
    "## Linear Regression"
   ]
  },
  {
   "cell_type": "code",
   "execution_count": 29,
   "id": "ae9d023a",
   "metadata": {},
   "outputs": [
    {
     "data": {
      "text/html": [
       "<table class=\"simpletable\">\n",
       "<caption>OLS Regression Results</caption>\n",
       "<tr>\n",
       "  <th>Dep. Variable:</th>          <td>Price</td>      <th>  R-squared:         </th> <td>   0.708</td>\n",
       "</tr>\n",
       "<tr>\n",
       "  <th>Model:</th>                   <td>OLS</td>       <th>  Adj. R-squared:    </th> <td>   0.658</td>\n",
       "</tr>\n",
       "<tr>\n",
       "  <th>Method:</th>             <td>Least Squares</td>  <th>  F-statistic:       </th> <td>   14.15</td>\n",
       "</tr>\n",
       "<tr>\n",
       "  <th>Date:</th>             <td>Fri, 28 Jul 2023</td> <th>  Prob (F-statistic):</th> <td>4.16e-08</td>\n",
       "</tr>\n",
       "<tr>\n",
       "  <th>Time:</th>                 <td>08:53:18</td>     <th>  Log-Likelihood:    </th> <td> -238.19</td>\n",
       "</tr>\n",
       "<tr>\n",
       "  <th>No. Observations:</th>      <td>    42</td>      <th>  AIC:               </th> <td>   490.4</td>\n",
       "</tr>\n",
       "<tr>\n",
       "  <th>Df Residuals:</th>          <td>    35</td>      <th>  BIC:               </th> <td>   502.5</td>\n",
       "</tr>\n",
       "<tr>\n",
       "  <th>Df Model:</th>              <td>     6</td>      <th>                     </th>     <td> </td>   \n",
       "</tr>\n",
       "<tr>\n",
       "  <th>Covariance Type:</th>      <td>nonrobust</td>    <th>                     </th>     <td> </td>   \n",
       "</tr>\n",
       "</table>\n",
       "<table class=\"simpletable\">\n",
       "<tr>\n",
       "      <td></td>         <th>coef</th>     <th>std err</th>      <th>t</th>      <th>P>|t|</th>  <th>[0.025</th>    <th>0.975]</th>  \n",
       "</tr>\n",
       "<tr>\n",
       "  <th>Intercept</th> <td>   86.4296</td> <td>   53.297</td> <td>    1.622</td> <td> 0.114</td> <td>  -21.769</td> <td>  194.628</td>\n",
       "</tr>\n",
       "<tr>\n",
       "  <th>Beds</th>      <td>   23.8685</td> <td>   16.814</td> <td>    1.420</td> <td> 0.165</td> <td>  -10.265</td> <td>   58.002</td>\n",
       "</tr>\n",
       "<tr>\n",
       "  <th>Baths</th>     <td>   73.0187</td> <td>   22.189</td> <td>    3.291</td> <td> 0.002</td> <td>   27.972</td> <td>  118.065</td>\n",
       "</tr>\n",
       "<tr>\n",
       "  <th>SqFt</th>      <td>    0.0205</td> <td>    0.030</td> <td>    0.682</td> <td> 0.499</td> <td>   -0.040</td> <td>    0.081</td>\n",
       "</tr>\n",
       "<tr>\n",
       "  <th>Acres</th>     <td>    2.5793</td> <td>    1.899</td> <td>    1.358</td> <td> 0.183</td> <td>   -1.277</td> <td>    6.435</td>\n",
       "</tr>\n",
       "<tr>\n",
       "  <th>YrOld</th>     <td>   -0.8890</td> <td>    0.740</td> <td>   -1.201</td> <td> 0.238</td> <td>   -2.392</td> <td>    0.614</td>\n",
       "</tr>\n",
       "<tr>\n",
       "  <th>DoM</th>       <td>    0.2187</td> <td>    0.145</td> <td>    1.510</td> <td> 0.140</td> <td>   -0.075</td> <td>    0.513</td>\n",
       "</tr>\n",
       "</table>\n",
       "<table class=\"simpletable\">\n",
       "<tr>\n",
       "  <th>Omnibus:</th>       <td> 2.207</td> <th>  Durbin-Watson:     </th> <td>   1.517</td>\n",
       "</tr>\n",
       "<tr>\n",
       "  <th>Prob(Omnibus):</th> <td> 0.332</td> <th>  Jarque-Bera (JB):  </th> <td>   1.422</td>\n",
       "</tr>\n",
       "<tr>\n",
       "  <th>Skew:</th>          <td> 0.437</td> <th>  Prob(JB):          </th> <td>   0.491</td>\n",
       "</tr>\n",
       "<tr>\n",
       "  <th>Kurtosis:</th>      <td> 3.220</td> <th>  Cond. No.          </th> <td>9.35e+03</td>\n",
       "</tr>\n",
       "</table><br/><br/>Notes:<br/>[1] Standard Errors assume that the covariance matrix of the errors is correctly specified.<br/>[2] The condition number is large, 9.35e+03. This might indicate that there are<br/>strong multicollinearity or other numerical problems."
      ],
      "text/latex": [
       "\\begin{center}\n",
       "\\begin{tabular}{lclc}\n",
       "\\toprule\n",
       "\\textbf{Dep. Variable:}    &      Price       & \\textbf{  R-squared:         } &     0.708   \\\\\n",
       "\\textbf{Model:}            &       OLS        & \\textbf{  Adj. R-squared:    } &     0.658   \\\\\n",
       "\\textbf{Method:}           &  Least Squares   & \\textbf{  F-statistic:       } &     14.15   \\\\\n",
       "\\textbf{Date:}             & Fri, 28 Jul 2023 & \\textbf{  Prob (F-statistic):} &  4.16e-08   \\\\\n",
       "\\textbf{Time:}             &     08:53:18     & \\textbf{  Log-Likelihood:    } &   -238.19   \\\\\n",
       "\\textbf{No. Observations:} &          42      & \\textbf{  AIC:               } &     490.4   \\\\\n",
       "\\textbf{Df Residuals:}     &          35      & \\textbf{  BIC:               } &     502.5   \\\\\n",
       "\\textbf{Df Model:}         &           6      & \\textbf{                     } &             \\\\\n",
       "\\textbf{Covariance Type:}  &    nonrobust     & \\textbf{                     } &             \\\\\n",
       "\\bottomrule\n",
       "\\end{tabular}\n",
       "\\begin{tabular}{lcccccc}\n",
       "                   & \\textbf{coef} & \\textbf{std err} & \\textbf{t} & \\textbf{P$> |$t$|$} & \\textbf{[0.025} & \\textbf{0.975]}  \\\\\n",
       "\\midrule\n",
       "\\textbf{Intercept} &      86.4296  &       53.297     &     1.622  &         0.114        &      -21.769    &      194.628     \\\\\n",
       "\\textbf{Beds}      &      23.8685  &       16.814     &     1.420  &         0.165        &      -10.265    &       58.002     \\\\\n",
       "\\textbf{Baths}     &      73.0187  &       22.189     &     3.291  &         0.002        &       27.972    &      118.065     \\\\\n",
       "\\textbf{SqFt}      &       0.0205  &        0.030     &     0.682  &         0.499        &       -0.040    &        0.081     \\\\\n",
       "\\textbf{Acres}     &       2.5793  &        1.899     &     1.358  &         0.183        &       -1.277    &        6.435     \\\\\n",
       "\\textbf{YrOld}     &      -0.8890  &        0.740     &    -1.201  &         0.238        &       -2.392    &        0.614     \\\\\n",
       "\\textbf{DoM}       &       0.2187  &        0.145     &     1.510  &         0.140        &       -0.075    &        0.513     \\\\\n",
       "\\bottomrule\n",
       "\\end{tabular}\n",
       "\\begin{tabular}{lclc}\n",
       "\\textbf{Omnibus:}       &  2.207 & \\textbf{  Durbin-Watson:     } &    1.517  \\\\\n",
       "\\textbf{Prob(Omnibus):} &  0.332 & \\textbf{  Jarque-Bera (JB):  } &    1.422  \\\\\n",
       "\\textbf{Skew:}          &  0.437 & \\textbf{  Prob(JB):          } &    0.491  \\\\\n",
       "\\textbf{Kurtosis:}      &  3.220 & \\textbf{  Cond. No.          } & 9.35e+03  \\\\\n",
       "\\bottomrule\n",
       "\\end{tabular}\n",
       "%\\caption{OLS Regression Results}\n",
       "\\end{center}\n",
       "\n",
       "Notes: \\newline\n",
       " [1] Standard Errors assume that the covariance matrix of the errors is correctly specified. \\newline\n",
       " [2] The condition number is large, 9.35e+03. This might indicate that there are \\newline\n",
       " strong multicollinearity or other numerical problems."
      ],
      "text/plain": [
       "<class 'statsmodels.iolib.summary.Summary'>\n",
       "\"\"\"\n",
       "                            OLS Regression Results                            \n",
       "==============================================================================\n",
       "Dep. Variable:                  Price   R-squared:                       0.708\n",
       "Model:                            OLS   Adj. R-squared:                  0.658\n",
       "Method:                 Least Squares   F-statistic:                     14.15\n",
       "Date:                Fri, 28 Jul 2023   Prob (F-statistic):           4.16e-08\n",
       "Time:                        08:53:18   Log-Likelihood:                -238.19\n",
       "No. Observations:                  42   AIC:                             490.4\n",
       "Df Residuals:                      35   BIC:                             502.5\n",
       "Df Model:                           6                                         \n",
       "Covariance Type:            nonrobust                                         \n",
       "==============================================================================\n",
       "                 coef    std err          t      P>|t|      [0.025      0.975]\n",
       "------------------------------------------------------------------------------\n",
       "Intercept     86.4296     53.297      1.622      0.114     -21.769     194.628\n",
       "Beds          23.8685     16.814      1.420      0.165     -10.265      58.002\n",
       "Baths         73.0187     22.189      3.291      0.002      27.972     118.065\n",
       "SqFt           0.0205      0.030      0.682      0.499      -0.040       0.081\n",
       "Acres          2.5793      1.899      1.358      0.183      -1.277       6.435\n",
       "YrOld         -0.8890      0.740     -1.201      0.238      -2.392       0.614\n",
       "DoM            0.2187      0.145      1.510      0.140      -0.075       0.513\n",
       "==============================================================================\n",
       "Omnibus:                        2.207   Durbin-Watson:                   1.517\n",
       "Prob(Omnibus):                  0.332   Jarque-Bera (JB):                1.422\n",
       "Skew:                           0.437   Prob(JB):                        0.491\n",
       "Kurtosis:                       3.220   Cond. No.                     9.35e+03\n",
       "==============================================================================\n",
       "\n",
       "Notes:\n",
       "[1] Standard Errors assume that the covariance matrix of the errors is correctly specified.\n",
       "[2] The condition number is large, 9.35e+03. This might indicate that there are\n",
       "strong multicollinearity or other numerical problems.\n",
       "\"\"\""
      ]
     },
     "execution_count": 29,
     "metadata": {},
     "output_type": "execute_result"
    }
   ],
   "source": [
    "train = pd.concat([X_train,y_train],axis=1)\n",
    "\n",
    "fm = 'Price ~ Beds + Baths + SqFt + Acres + YrOld + DoM'\n",
    "lr = smf.ols(formula=fm,data=train).fit()\n",
    "lr.summary()"
   ]
  },
  {
   "cell_type": "code",
   "execution_count": 30,
   "id": "36396de5",
   "metadata": {},
   "outputs": [
    {
     "name": "stdout",
     "output_type": "stream",
     "text": [
      "R2: 0.7080\n",
      "RMSE: 70.2559\n"
     ]
    }
   ],
   "source": [
    "lr = LinearRegression()\n",
    "lr.fit(X_train,y_train)\n",
    "\n",
    "y_pred = lr.predict(X_train)\n",
    "score(y_true=y_train,y_pred=y_pred)"
   ]
  },
  {
   "cell_type": "code",
   "execution_count": 31,
   "id": "57fdb164",
   "metadata": {},
   "outputs": [
    {
     "name": "stdout",
     "output_type": "stream",
     "text": [
      "R2: 0.3691\n",
      "RMSE: 77.3716\n"
     ]
    }
   ],
   "source": [
    "y_pred = lr.predict(X_test)\n",
    "score(y_true=y_test,y_pred=y_pred)"
   ]
  },
  {
   "cell_type": "markdown",
   "id": "e8cc206d",
   "metadata": {},
   "source": [
    "# Score Distributions"
   ]
  },
  {
   "cell_type": "code",
   "execution_count": 42,
   "id": "5ed5de5f",
   "metadata": {},
   "outputs": [],
   "source": [
    "def sim_score(y_true,y_pred):\n",
    "    r2 = r2_score(y_true=y_true,y_pred=y_pred)\n",
    "    rmse = mean_squared_error(y_true=y_true,y_pred=y_pred,squared=False)\n",
    "    return r2,rmse"
   ]
  },
  {
   "cell_type": "code",
   "execution_count": 43,
   "id": "41123042",
   "metadata": {},
   "outputs": [],
   "source": [
    "def score_sim(model,X,y,iterations=10):\n",
    "\n",
    "    train_r2 = []\n",
    "    train_rmse = []\n",
    "    test_r2 = []\n",
    "    test_rmse = []\n",
    "\n",
    "    for i in range(iterations):\n",
    "        X_train, X_test, y_train, y_test = train_test_split(X,y,random_state=i,test_size=0.05)\n",
    "\n",
    "        model.fit(X_train,y_train)\n",
    "        \n",
    "        train_pred = model.predict(X_train)\n",
    "        train_r2_, train_rmse_ = sim_score(y_true=y_train,y_pred=train_pred)\n",
    "        train_r2.append(train_r2_)\n",
    "        train_rmse.append(train_rmse_)\n",
    "        \n",
    "        test_pred = model.predict(X_test)\n",
    "        test_r2_, test_rmse_ = sim_score(y_true=y_test,y_pred=test_pred)\n",
    "        test_r2.append(test_r2_)\n",
    "        test_rmse.append(test_rmse_)\n",
    "        \n",
    "    return train_r2, train_rmse, test_r2, test_rmse\n"
   ]
  },
  {
   "cell_type": "code",
   "execution_count": 44,
   "id": "4b81987b",
   "metadata": {},
   "outputs": [],
   "source": [
    "X = df3.drop('Price',axis=1)\n",
    "y = df3.Price"
   ]
  },
  {
   "cell_type": "code",
   "execution_count": 45,
   "id": "d177ed95",
   "metadata": {},
   "outputs": [],
   "source": [
    "params = {'C': 0.0016569899138846821, 'epsilon': 1.764087565582041, 'kernel': 'linear'}\n",
    "\n",
    "svr = SVR(**params)\n",
    "\n",
    "svr_train_r2, svr_train_rmse, svr_test_r2, svr_test_rmse = score_sim(model=svr,X=X,y=y,iterations=500)"
   ]
  },
  {
   "cell_type": "code",
   "execution_count": 59,
   "id": "26318318",
   "metadata": {},
   "outputs": [],
   "source": [
    "rfr = RandomForestRegressor(n_estimators=500, max_features=0.75,n_jobs=-1, random_state=seed)\n",
    "\n",
    "rfr_train_r2, rfr_train_rmse, rfr_test_r2, rfr_test_rmse = score_sim(model=rfr,X=X,y=y,iterations=500)"
   ]
  },
  {
   "cell_type": "code",
   "execution_count": 47,
   "id": "afb86ed0",
   "metadata": {},
   "outputs": [],
   "source": [
    "lr = LinearRegression()\n",
    "\n",
    "lr_train_r2, lr_train_rmse, lr_test_r2, lr_test_rmse = score_sim(model=lr,X=X,y=y,iterations=500)"
   ]
  },
  {
   "cell_type": "markdown",
   "id": "b14e77de",
   "metadata": {},
   "source": [
    "### RMSE Distributions"
   ]
  },
  {
   "cell_type": "code",
   "execution_count": 60,
   "id": "125adfe5",
   "metadata": {},
   "outputs": [
    {
     "data": {
      "image/png": "[encoded data removed]",
      "text/plain": [
       "<Figure size 960x720 with 1 Axes>"
      ]
     },
     "metadata": {},
     "output_type": "display_data"
    }
   ],
   "source": [
    "# Training Data\n",
    "\n",
    "plt.figure(dpi=150)\n",
    "plt.hist(svr_train_rmse,edgecolor='w',bins=10,label='SVMR',alpha=.5)\n",
    "plt.hist(rfr_train_rmse,edgecolor='w',bins=10,label='RFR',alpha=.5)\n",
    "plt.hist(lr_train_rmse,edgecolor='w',bins=10,label='LR',alpha=.5)\n",
    "plt.grid(alpha=.15)\n",
    "plt.xlabel('RMSE')\n",
    "plt.ylabel('Count')\n",
    "plt.legend()\n",
    "plt.show()"
   ]
  },
  {
   "cell_type": "code",
   "execution_count": 61,
   "id": "a971e70f",
   "metadata": {},
   "outputs": [
    {
     "data": {
      "image/png": "[encoded data removed]",
      "text/plain": [
       "<Figure size 960x720 with 1 Axes>"
      ]
     },
     "metadata": {},
     "output_type": "display_data"
    }
   ],
   "source": [
    "# Testing Data\n",
    "\n",
    "plt.figure(dpi=150)\n",
    "plt.hist(svr_test_rmse,edgecolor='w',bins=10,label='SVMR',alpha=.5)\n",
    "plt.hist(rfr_test_rmse,edgecolor='w',bins=10,label='RFR',alpha=.5)\n",
    "plt.hist(lr_test_rmse,edgecolor='w',bins=10,label='LR',alpha=.5)\n",
    "plt.grid(alpha=.15)\n",
    "plt.legend()\n",
    "plt.xlabel('RMSE')\n",
    "plt.ylabel('Count')\n",
    "plt.show()"
   ]
  },
  {
   "cell_type": "markdown",
   "id": "096964dd",
   "metadata": {},
   "source": [
    "### Summary Stats of Score Distributions"
   ]
  },
  {
   "cell_type": "code",
   "execution_count": 66,
   "id": "a7bead27",
   "metadata": {},
   "outputs": [],
   "source": [
    "def mean_med_sd(x):\n",
    "    return np.mean(x), np.median(x), np.std(x,ddof=1)"
   ]
  },
  {
   "cell_type": "code",
   "execution_count": 67,
   "id": "39baef2a",
   "metadata": {},
   "outputs": [
    {
     "data": {
      "text/plain": [
       "(88.81689890810415, 81.8272302616748, 40.471370718822016)"
      ]
     },
     "execution_count": 67,
     "metadata": {},
     "output_type": "execute_result"
    }
   ],
   "source": [
    "mean_med_sd(svr_test_rmse)"
   ]
  },
  {
   "cell_type": "code",
   "execution_count": 68,
   "id": "bdde582f",
   "metadata": {},
   "outputs": [
    {
     "data": {
      "text/plain": [
       "(75.97061506407249, 69.50494637275636, 38.24610249553596)"
      ]
     },
     "execution_count": 68,
     "metadata": {},
     "output_type": "execute_result"
    }
   ],
   "source": [
    "mean_med_sd(rfr_test_rmse)"
   ]
  },
  {
   "cell_type": "code",
   "execution_count": 69,
   "id": "bf6aa1d3",
   "metadata": {},
   "outputs": [
    {
     "data": {
      "text/plain": [
       "(91.20401825895551, 73.21946377701303, 65.16670374817075)"
      ]
     },
     "execution_count": 69,
     "metadata": {},
     "output_type": "execute_result"
    }
   ],
   "source": [
    "mean_med_sd(lr_test_rmse)"
   ]
  },
  {
   "cell_type": "markdown",
   "id": "266636a6",
   "metadata": {},
   "source": [
    "### ANOVA Test to compare Score Distributions"
   ]
  },
  {
   "cell_type": "code",
   "execution_count": 63,
   "id": "a377e85f",
   "metadata": {},
   "outputs": [
    {
     "data": {
      "text/html": [
       "<div>\n",
       "<style scoped>\n",
       "    .dataframe tbody tr th:only-of-type {\n",
       "        vertical-align: middle;\n",
       "    }\n",
       "\n",
       "    .dataframe tbody tr th {\n",
       "        vertical-align: top;\n",
       "    }\n",
       "\n",
       "    .dataframe thead th {\n",
       "        text-align: right;\n",
       "    }\n",
       "</style>\n",
       "<table border=\"1\" class=\"dataframe\">\n",
       "  <thead>\n",
       "    <tr style=\"text-align: right;\">\n",
       "      <th></th>\n",
       "      <th>rmse</th>\n",
       "      <th>model</th>\n",
       "    </tr>\n",
       "  </thead>\n",
       "  <tbody>\n",
       "    <tr>\n",
       "      <th>0</th>\n",
       "      <td>56.404763</td>\n",
       "      <td>svmr</td>\n",
       "    </tr>\n",
       "    <tr>\n",
       "      <th>1</th>\n",
       "      <td>48.425828</td>\n",
       "      <td>svmr</td>\n",
       "    </tr>\n",
       "    <tr>\n",
       "      <th>2</th>\n",
       "      <td>98.211348</td>\n",
       "      <td>svmr</td>\n",
       "    </tr>\n",
       "    <tr>\n",
       "      <th>3</th>\n",
       "      <td>27.032064</td>\n",
       "      <td>svmr</td>\n",
       "    </tr>\n",
       "    <tr>\n",
       "      <th>4</th>\n",
       "      <td>88.187680</td>\n",
       "      <td>svmr</td>\n",
       "    </tr>\n",
       "    <tr>\n",
       "      <th>...</th>\n",
       "      <td>...</td>\n",
       "      <td>...</td>\n",
       "    </tr>\n",
       "    <tr>\n",
       "      <th>1495</th>\n",
       "      <td>60.049997</td>\n",
       "      <td>lr</td>\n",
       "    </tr>\n",
       "    <tr>\n",
       "      <th>1496</th>\n",
       "      <td>52.789011</td>\n",
       "      <td>lr</td>\n",
       "    </tr>\n",
       "    <tr>\n",
       "      <th>1497</th>\n",
       "      <td>82.033750</td>\n",
       "      <td>lr</td>\n",
       "    </tr>\n",
       "    <tr>\n",
       "      <th>1498</th>\n",
       "      <td>78.366418</td>\n",
       "      <td>lr</td>\n",
       "    </tr>\n",
       "    <tr>\n",
       "      <th>1499</th>\n",
       "      <td>58.427403</td>\n",
       "      <td>lr</td>\n",
       "    </tr>\n",
       "  </tbody>\n",
       "</table>\n",
       "<p>1500 rows × 2 columns</p>\n",
       "</div>"
      ],
      "text/plain": [
       "           rmse model\n",
       "0     56.404763  svmr\n",
       "1     48.425828  svmr\n",
       "2     98.211348  svmr\n",
       "3     27.032064  svmr\n",
       "4     88.187680  svmr\n",
       "...         ...   ...\n",
       "1495  60.049997    lr\n",
       "1496  52.789011    lr\n",
       "1497  82.033750    lr\n",
       "1498  78.366418    lr\n",
       "1499  58.427403    lr\n",
       "\n",
       "[1500 rows x 2 columns]"
      ]
     },
     "execution_count": 63,
     "metadata": {},
     "output_type": "execute_result"
    }
   ],
   "source": [
    "l = ['svmr']*len(svr_test_rmse)\n",
    "l.extend(['rfr']*len(rfr_test_rmse))\n",
    "l.extend(['lr']*len(lr_test_rmse))\n",
    "\n",
    "data = dict(\n",
    "    rmse = np.hstack((svr_test_rmse,rfr_test_rmse,lr_test_rmse)),\n",
    "    model = l\n",
    ")\n",
    "\n",
    "sim_df = pd.DataFrame(data)\n",
    "sim_df"
   ]
  },
  {
   "cell_type": "code",
   "execution_count": 64,
   "id": "60902eca",
   "metadata": {},
   "outputs": [
    {
     "data": {
      "text/html": [
       "<div>\n",
       "<style scoped>\n",
       "    .dataframe tbody tr th:only-of-type {\n",
       "        vertical-align: middle;\n",
       "    }\n",
       "\n",
       "    .dataframe tbody tr th {\n",
       "        vertical-align: top;\n",
       "    }\n",
       "\n",
       "    .dataframe thead th {\n",
       "        text-align: right;\n",
       "    }\n",
       "</style>\n",
       "<table border=\"1\" class=\"dataframe\">\n",
       "  <thead>\n",
       "    <tr style=\"text-align: right;\">\n",
       "      <th></th>\n",
       "      <th>Source</th>\n",
       "      <th>SS</th>\n",
       "      <th>DF</th>\n",
       "      <th>MS</th>\n",
       "      <th>F</th>\n",
       "      <th>p-unc</th>\n",
       "      <th>np2</th>\n",
       "    </tr>\n",
       "  </thead>\n",
       "  <tbody>\n",
       "    <tr>\n",
       "      <th>0</th>\n",
       "      <td>model</td>\n",
       "      <td>6.713032e+04</td>\n",
       "      <td>2</td>\n",
       "      <td>33565.160025</td>\n",
       "      <td>13.704922</td>\n",
       "      <td>0.000001</td>\n",
       "      <td>0.017981</td>\n",
       "    </tr>\n",
       "    <tr>\n",
       "      <th>1</th>\n",
       "      <td>Within</td>\n",
       "      <td>3.666350e+06</td>\n",
       "      <td>1497</td>\n",
       "      <td>2449.131827</td>\n",
       "      <td>NaN</td>\n",
       "      <td>NaN</td>\n",
       "      <td>NaN</td>\n",
       "    </tr>\n",
       "  </tbody>\n",
       "</table>\n",
       "</div>"
      ],
      "text/plain": [
       "   Source            SS    DF            MS          F     p-unc       np2\n",
       "0   model  6.713032e+04     2  33565.160025  13.704922  0.000001  0.017981\n",
       "1  Within  3.666350e+06  1497   2449.131827        NaN       NaN       NaN"
      ]
     },
     "execution_count": 64,
     "metadata": {},
     "output_type": "execute_result"
    }
   ],
   "source": [
    "pg.anova(data=sim_df,dv='rmse',between='model',detailed=True)"
   ]
  },
  {
   "cell_type": "code",
   "execution_count": 65,
   "id": "fca2ea1e",
   "metadata": {},
   "outputs": [
    {
     "data": {
      "text/html": [
       "<div>\n",
       "<style scoped>\n",
       "    .dataframe tbody tr th:only-of-type {\n",
       "        vertical-align: middle;\n",
       "    }\n",
       "\n",
       "    .dataframe tbody tr th {\n",
       "        vertical-align: top;\n",
       "    }\n",
       "\n",
       "    .dataframe thead th {\n",
       "        text-align: right;\n",
       "    }\n",
       "</style>\n",
       "<table border=\"1\" class=\"dataframe\">\n",
       "  <thead>\n",
       "    <tr style=\"text-align: right;\">\n",
       "      <th></th>\n",
       "      <th>A</th>\n",
       "      <th>B</th>\n",
       "      <th>mean(A)</th>\n",
       "      <th>mean(B)</th>\n",
       "      <th>diff</th>\n",
       "      <th>se</th>\n",
       "      <th>T</th>\n",
       "      <th>p-tukey</th>\n",
       "      <th>hedges</th>\n",
       "    </tr>\n",
       "  </thead>\n",
       "  <tbody>\n",
       "    <tr>\n",
       "      <th>0</th>\n",
       "      <td>lr</td>\n",
       "      <td>rfr</td>\n",
       "      <td>91.204018</td>\n",
       "      <td>75.970615</td>\n",
       "      <td>15.233403</td>\n",
       "      <td>3.12994</td>\n",
       "      <td>4.866995</td>\n",
       "      <td>0.000004</td>\n",
       "      <td>0.284897</td>\n",
       "    </tr>\n",
       "    <tr>\n",
       "      <th>1</th>\n",
       "      <td>lr</td>\n",
       "      <td>svmr</td>\n",
       "      <td>91.204018</td>\n",
       "      <td>88.816899</td>\n",
       "      <td>2.387119</td>\n",
       "      <td>3.12994</td>\n",
       "      <td>0.762672</td>\n",
       "      <td>0.725981</td>\n",
       "      <td>0.043975</td>\n",
       "    </tr>\n",
       "    <tr>\n",
       "      <th>2</th>\n",
       "      <td>rfr</td>\n",
       "      <td>svmr</td>\n",
       "      <td>75.970615</td>\n",
       "      <td>88.816899</td>\n",
       "      <td>-12.846284</td>\n",
       "      <td>3.12994</td>\n",
       "      <td>-4.104322</td>\n",
       "      <td>0.000126</td>\n",
       "      <td>-0.326014</td>\n",
       "    </tr>\n",
       "  </tbody>\n",
       "</table>\n",
       "</div>"
      ],
      "text/plain": [
       "     A     B    mean(A)    mean(B)       diff       se         T   p-tukey  \\\n",
       "0   lr   rfr  91.204018  75.970615  15.233403  3.12994  4.866995  0.000004   \n",
       "1   lr  svmr  91.204018  88.816899   2.387119  3.12994  0.762672  0.725981   \n",
       "2  rfr  svmr  75.970615  88.816899 -12.846284  3.12994 -4.104322  0.000126   \n",
       "\n",
       "     hedges  \n",
       "0  0.284897  \n",
       "1  0.043975  \n",
       "2 -0.326014  "
      ]
     },
     "execution_count": 65,
     "metadata": {},
     "output_type": "execute_result"
    }
   ],
   "source": [
    "pg.pairwise_tukey(data=sim_df,dv='rmse',between='model',)"
   ]
  },
  {
   "cell_type": "code",
   "execution_count": null,
   "id": "7b2a162e",
   "metadata": {},
   "outputs": [],
   "source": []
  }
 ],
 "metadata": {
  "kernelspec": {
   "display_name": "Python [conda env:DS_Python311_JAN2023] *",
   "language": "python",
   "name": "conda-env-DS_Python311_JAN2023-py"
  },
  "language_info": {
   "codemirror_mode": {
    "name": "ipython",
    "version": 3
   },
   "file_extension": ".py",
   "mimetype": "text/x-python",
   "name": "python",
   "nbconvert_exporter": "python",
   "pygments_lexer": "ipython3",
   "version": "3.11.0"
  }
 },
 "nbformat": 4,
 "nbformat_minor": 5
}
